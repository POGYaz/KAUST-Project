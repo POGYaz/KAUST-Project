{
 "cells": [
  {
   "cell_type": "markdown",
   "id": "661426ff-6464-4930-afe9-aa4be0e88917",
   "metadata": {},
   "source": [
    "# 01: Data Preparation\n",
    "\n",
    "This notebook performs the following steps to clean and prepare the raw Jarir transactions data:\n",
    "\n",
    "- **Configuration**: Define paths, thresholds, and toggles  \n",
    "- **Load Data**: Read raw Excel file into a DataFrame  \n",
    "- **Date Parsing**: Handle custom date formats and ensure valid timestamps  \n",
    "- **Column Standardization**: Rename raw columns to consistent names  \n",
    "- **Price Computation**: Derive unit price from line amounts and quantities  \n",
    "- **Filtering Steps**:\n",
    "  1. Basic validity (missing values, returns, non-positive values, duplicates)  \n",
    "  2. Text normalization & removal of non-product lines  \n",
    "  3. Aggregation of duplicate transaction lines  \n",
    "  4. Outlier detection & handling via IQR on log scale  \n",
    "  5. Optional coverage filters to drop rare users/items  \n",
    "- **Final Tables**:\n",
    "  - Build `interactions_clean`, `item_catalog`, and `customer_table`  \n",
    "  - Save to Parquet and export a quality report  \n",
    "- **Optional Visual Checks**: Quick histograms for price, quantity, and line amounts"
   ]
  },
  {
   "cell_type": "code",
   "execution_count": 1,
   "id": "da119d7f-cc8a-4a92-a473-d9233ec6dd79",
   "metadata": {},
   "outputs": [],
   "source": [
    "from pathlib import Path\n",
    "import os, random\n",
    "import pandas as pd\n",
    "import numpy as np\n",
    "import unicodedata, re, json\n",
    "import matplotlib.pyplot as plt\n",
    "\n",
    "# Optional torch seeding if available\n",
    "try:\n",
    "    import torch\n",
    "except Exception:\n",
    "    torch = None\n",
    "\n",
    "# Global reproducibility\n",
    "SEED = 42\n",
    "os.environ[\"PYTHONHASHSEED\"] = str(SEED)\n",
    "random.seed(SEED)\n",
    "np.random.seed(SEED)\n",
    "if torch is not None:\n",
    "    torch.manual_seed(SEED)\n",
    "    if torch.cuda.is_available():\n",
    "        torch.cuda.manual_seed_all(SEED)\n",
    "    try:\n",
    "        torch.use_deterministic_algorithms(True)\n",
    "    except Exception:\n",
    "        pass\n",
    "    if hasattr(torch.backends, 'cudnn'):\n",
    "        torch.backends.cudnn.deterministic = True\n",
    "        torch.backends.cudnn.benchmark = False\n",
    "\n",
    "# Paths\n",
    "DATA_PATH = Path('../data/raw/jarir.xlsx')\n",
    "OUT_DIR   = Path('../data/processed/jarir/')\n",
    "OUT_DIR.mkdir(parents=True, exist_ok=True)\n",
    "\n",
    "# Cleaning toggles / thresholds\n",
    "KEEP_ONLY_POSITIVE_QTY         = True\n",
    "KEEP_ONLY_POSITIVE_PRICE       = True\n",
    "DROP_RETURNS_BY_INVOICE_PREFIX = True\n",
    "DROP_DUPLICATE_ROWS            = True\n",
    "\n",
    "# Non-product removal rules (description patterns; case-insensitive)\n",
    "NON_PRODUCT_PATTERNS = [\n",
    "    r'POSTAGE', r'SHIPPING', r'CARRIAGE', r'DELIVERY',\n",
    "    r'BANK CHARGES', r'AMAZON', r'DOTCOM', r'PACKING',\n",
    "    r'ADJUST', r'DISCOUNT', r'SAMPLE', r'SAMPLES',\n",
    "    r'CHECK', r'TEST', r'MANUAL', r'FEE', r'CHARGE'\n",
    "]\n",
    "\n",
    "# Outlier handling (IQR on log values)\n",
    "HANDLE_OUTLIERS                = True\n",
    "WINSORIZE_INSTEAD_OF_DROP      = False\n",
    "IQR_MULT                       = 3.0\n",
    "LOG_EPS                        = 1e-6\n",
    "\n",
    "# Coverage filters (optional; applied after core cleaning)\n",
    "MIN_EVENTS_PER_USER            = 1\n",
    "MIN_PURCHASES_PER_ITEM         = 1\n",
    "\n",
    "# Storage for quality metrics\n",
    "quality = {}"
   ]
  },
  {
   "cell_type": "markdown",
   "id": "d93242a7-b541-485e-9394-5a0356d71c8a",
   "metadata": {},
   "source": [
    "## 1. Load Raw Data\n",
    "\n",
    "- Read the Jarir dataset from Excel  \n",
    "- Display original shape and column names"
   ]
  },
  {
   "cell_type": "code",
   "execution_count": 2,
   "id": "1823d425-f46d-44fc-8dae-a4835c3cb17e",
   "metadata": {},
   "outputs": [
    {
     "name": "stdout",
     "output_type": "stream",
     "text": [
      "Loading Jarir dataset...\n",
      "Original shape: (3001, 17)\n",
      "Columns: ['Showroom', 'GL Class', 'Classification Description', 'ItemDescription', 'ShortItemNo', 'Model', 'Vendor Prefix', 'Brand', 'ItemNumber', 'Date', 'SalesChannel', 'CustomerId', 'Customer_VAT_Status', 'UNQTRN', 'Sales Quantity 2024', 'No of Trans 2024', 'Sales Amount 2024']\n"
     ]
    }
   ],
   "source": [
    "print(\"Loading Jarir dataset...\")\n",
    "raw = pd.read_excel(DATA_PATH, engine='openpyxl')\n",
    "print(f\"Original shape: {raw.shape}\")\n",
    "print(f\"Columns: {raw.columns.tolist()}\")"
   ]
  },
  {
   "cell_type": "markdown",
   "id": "74d1305a-379a-4aa3-b0bb-8a79bd099c3b",
   "metadata": {},
   "source": [
    "## 2. Parse Jarir Dates\n",
    "\n",
    "- Custom parser for formats like `Jan-1`, `Feb-20`, etc.  \n",
    "- Defaults year to 2024"
   ]
  },
  {
   "cell_type": "code",
   "execution_count": 3,
   "id": "cc733153-5726-44d7-97a0-7e2f463936bb",
   "metadata": {},
   "outputs": [],
   "source": [
    "import re\n",
    "\n",
    "def parse_jarir_dates(date_series):\n",
    "    \"\"\"Robust parser for Jarir dates.\n",
    "    Handles formats like 'Jan-1', Excel serials, and common date strings.\n",
    "    Returns pandas datetime with NaT for unparseable values.\n",
    "    \"\"\"\n",
    "    month_map = {'Jan':1,'Feb':2,'Mar':3,'Apr':4,'May':5,'Jun':6,\n",
    "                 'Jul':7,'Aug':8,'Sep':9,'Oct':10,'Nov':11,'Dec':12}\n",
    "    month_re = re.compile(r\"^(Jan|Feb|Mar|Apr|May|Jun|Jul|Aug|Sep|Oct|Nov|Dec)[\\-\\s](\\d{1,2})$\", re.IGNORECASE)\n",
    "\n",
    "    def parse_single(x):\n",
    "        if pd.isna(x):\n",
    "            return pd.NaT\n",
    "        # Excel serial numbers (1900-based, with pandas offset adjustment)\n",
    "        if isinstance(x, (int, float)):\n",
    "            try:\n",
    "                return pd.Timestamp('1899-12-30') + pd.Timedelta(days=int(x))\n",
    "            except Exception:\n",
    "                return pd.NaT\n",
    "        if isinstance(x, str):\n",
    "            s = x.strip()\n",
    "            # Jarir custom format 'Mon-DD' or 'Mon DD'\n",
    "            m = month_re.match(s)\n",
    "            if m:\n",
    "                m_str, d_str = m.group(1).title(), m.group(2)\n",
    "                return pd.Timestamp(2024, month_map[m_str], int(d_str))\n",
    "            # Try generic parsing (dayfirst to be safe)\n",
    "            try:\n",
    "                return pd.to_datetime(s, errors='raise', dayfirst=True, utc=False)\n",
    "            except Exception:\n",
    "                try:\n",
    "                    return pd.to_datetime(s, errors='raise', dayfirst=False, utc=False)\n",
    "                except Exception:\n",
    "                    return pd.NaT\n",
    "        return pd.NaT\n",
    "\n",
    "    parsed = date_series.map(parse_single)\n",
    "    return pd.to_datetime(parsed, errors='coerce')"
   ]
  },
  {
   "cell_type": "markdown",
   "id": "99da625b-a31a-46f7-bf89-0d11c53bc2ff",
   "metadata": {},
   "source": [
    "## 3. Standardize Column Names\n",
    "\n",
    "- Map raw Excel columns to our standard schema"
   ]
  },
  {
   "cell_type": "code",
   "execution_count": 4,
   "id": "996ec73b-14d4-40d5-ac57-c548355a255f",
   "metadata": {},
   "outputs": [
    {
     "name": "stdout",
     "output_type": "stream",
     "text": [
      "After rename: ['country', 'category', 'Classification Description', 'description', 'short_item_no', 'model', 'vendor', 'brand', 'stock_code', 'invoice_date', 'sales_channel', 'customer_id', 'vat_status', 'unique_transaction', 'quantity', 'num_transactions', 'line_amount']\n"
     ]
    }
   ],
   "source": [
    "rename_map = {\n",
    "    'ItemNumber':'stock_code', 'ItemDescription':'description',\n",
    "    'CustomerId':'customer_id', 'Sales Quantity 2024':'quantity',\n",
    "    'Sales Amount 2024':'line_amount', 'Date':'invoice_date',\n",
    "    'Showroom':'country', 'Brand':'brand', 'GL Class':'category',\n",
    "    'Vendor Prefix':'vendor', 'Model':'model', 'ShortItemNo':'short_item_no',\n",
    "    'SalesChannel':'sales_channel', 'Customer_VAT_Status':'vat_status',\n",
    "    'UNQTRN':'unique_transaction', 'No of Trans 2024':'num_transactions'\n",
    "}\n",
    "for old, new in rename_map.items():\n",
    "    if old in raw.columns:\n",
    "        raw.rename(columns={old:new}, inplace=True)\n",
    "print(f\"After rename: {raw.columns.tolist()}\")"
   ]
  },
  {
   "cell_type": "markdown",
   "id": "c4d19ed3-77fc-4441-a3fa-1d705e3d641e",
   "metadata": {},
   "source": [
    "## 4. Apply Date Parsing & Price Computation\n",
    "\n",
    "- Parse invoice dates  \n",
    "- Generate synthetic dates if parsing fails entirely  \n",
    "- Compute unit price = `line_amount / quantity`"
   ]
  },
  {
   "cell_type": "code",
   "execution_count": 5,
   "id": "92ec122b-a955-4810-8179-27af22804944",
   "metadata": {},
   "outputs": [
    {
     "name": "stdout",
     "output_type": "stream",
     "text": [
      "Rows loaded: 3001\n"
     ]
    },
    {
     "data": {
      "text/html": [
       "<div>\n",
       "<style scoped>\n",
       "    .dataframe tbody tr th:only-of-type {\n",
       "        vertical-align: middle;\n",
       "    }\n",
       "\n",
       "    .dataframe tbody tr th {\n",
       "        vertical-align: top;\n",
       "    }\n",
       "\n",
       "    .dataframe thead th {\n",
       "        text-align: right;\n",
       "    }\n",
       "</style>\n",
       "<table border=\"1\" class=\"dataframe\">\n",
       "  <thead>\n",
       "    <tr style=\"text-align: right;\">\n",
       "      <th></th>\n",
       "      <th>country</th>\n",
       "      <th>category</th>\n",
       "      <th>Classification Description</th>\n",
       "      <th>description</th>\n",
       "      <th>short_item_no</th>\n",
       "      <th>model</th>\n",
       "      <th>vendor</th>\n",
       "      <th>brand</th>\n",
       "      <th>stock_code</th>\n",
       "      <th>invoice_date</th>\n",
       "      <th>sales_channel</th>\n",
       "      <th>customer_id</th>\n",
       "      <th>vat_status</th>\n",
       "      <th>unique_transaction</th>\n",
       "      <th>quantity</th>\n",
       "      <th>num_transactions</th>\n",
       "      <th>line_amount</th>\n",
       "      <th>price</th>\n",
       "    </tr>\n",
       "  </thead>\n",
       "  <tbody>\n",
       "    <tr>\n",
       "      <th>0</th>\n",
       "      <td>0103-PLAZA</td>\n",
       "      <td>IN04  COMPUTER SUPPLIES</td>\n",
       "      <td>DFB  COMPUTER CABLES</td>\n",
       "      <td>24-2PC54AAABB ADAPTER USB-C TO HDMI</td>\n",
       "      <td>493547</td>\n",
       "      <td>Pavilion</td>\n",
       "      <td>24- HEWLETT PACKARD (HP)</td>\n",
       "      <td>HP</td>\n",
       "      <td>24-2PC54AAABB</td>\n",
       "      <td>2024-01-01</td>\n",
       "      <td>Showroom</td>\n",
       "      <td>18972653</td>\n",
       "      <td>1</td>\n",
       "      <td>20066638240101</td>\n",
       "      <td>1.0</td>\n",
       "      <td>1</td>\n",
       "      <td>77.39</td>\n",
       "      <td>77.390000</td>\n",
       "    </tr>\n",
       "    <tr>\n",
       "      <th>1</th>\n",
       "      <td>0103-PLAZA</td>\n",
       "      <td>IN10  ART &amp; CRAFT SUPPLIES</td>\n",
       "      <td>CAE  SPRAY PAINTS</td>\n",
       "      <td>O2.477041 SPRAY EV1050 VINTAGE YELLOW</td>\n",
       "      <td>539352</td>\n",
       "      <td>Vintage</td>\n",
       "      <td>O2. MONTANA CANS</td>\n",
       "      <td>MONTANA-CANS</td>\n",
       "      <td>O2.477041</td>\n",
       "      <td>2024-01-01</td>\n",
       "      <td>Showroom</td>\n",
       "      <td>35663471</td>\n",
       "      <td>1</td>\n",
       "      <td>20038904240101</td>\n",
       "      <td>3.0</td>\n",
       "      <td>1</td>\n",
       "      <td>86.09</td>\n",
       "      <td>28.696667</td>\n",
       "    </tr>\n",
       "    <tr>\n",
       "      <th>2</th>\n",
       "      <td>0103-PLAZA</td>\n",
       "      <td>IN12  COMPUTERS &amp; PERIPHERALS</td>\n",
       "      <td>OAQ  GAMING MONITOR</td>\n",
       "      <td>16-LS32BG650EMXU SAMSUNG SMART GAMING 32\" 240HZ</td>\n",
       "      <td>628650</td>\n",
       "      <td>Odyssey</td>\n",
       "      <td>16- SAMSUNG ELECTRONICS SUZHOU COMPUTER CO.</td>\n",
       "      <td>Samsung</td>\n",
       "      <td>16-LS32BG650EMXU</td>\n",
       "      <td>2024-01-01</td>\n",
       "      <td>Showroom</td>\n",
       "      <td>23071472</td>\n",
       "      <td>1</td>\n",
       "      <td>20066758240101</td>\n",
       "      <td>1.0</td>\n",
       "      <td>1</td>\n",
       "      <td>1912.17</td>\n",
       "      <td>1912.170000</td>\n",
       "    </tr>\n",
       "  </tbody>\n",
       "</table>\n",
       "</div>"
      ],
      "text/plain": [
       "      country                       category Classification Description  \\\n",
       "0  0103-PLAZA        IN04  COMPUTER SUPPLIES       DFB  COMPUTER CABLES   \n",
       "1  0103-PLAZA     IN10  ART & CRAFT SUPPLIES          CAE  SPRAY PAINTS   \n",
       "2  0103-PLAZA  IN12  COMPUTERS & PERIPHERALS        OAQ  GAMING MONITOR   \n",
       "\n",
       "                                       description  short_item_no     model  \\\n",
       "0              24-2PC54AAABB ADAPTER USB-C TO HDMI         493547  Pavilion   \n",
       "1            O2.477041 SPRAY EV1050 VINTAGE YELLOW         539352   Vintage   \n",
       "2  16-LS32BG650EMXU SAMSUNG SMART GAMING 32\" 240HZ         628650   Odyssey   \n",
       "\n",
       "                                        vendor         brand  \\\n",
       "0                     24- HEWLETT PACKARD (HP)            HP   \n",
       "1                             O2. MONTANA CANS  MONTANA-CANS   \n",
       "2  16- SAMSUNG ELECTRONICS SUZHOU COMPUTER CO.       Samsung   \n",
       "\n",
       "         stock_code invoice_date sales_channel  customer_id  vat_status  \\\n",
       "0     24-2PC54AAABB   2024-01-01      Showroom     18972653           1   \n",
       "1         O2.477041   2024-01-01      Showroom     35663471           1   \n",
       "2  16-LS32BG650EMXU   2024-01-01      Showroom     23071472           1   \n",
       "\n",
       "   unique_transaction  quantity  num_transactions  line_amount        price  \n",
       "0      20066638240101       1.0                 1        77.39    77.390000  \n",
       "1      20038904240101       3.0                 1        86.09    28.696667  \n",
       "2      20066758240101       1.0                 1      1912.17  1912.170000  "
      ]
     },
     "execution_count": 5,
     "metadata": {},
     "output_type": "execute_result"
    }
   ],
   "source": [
    "raw['invoice_date'] = parse_jarir_dates(raw['invoice_date'])\n",
    "\n",
    "# Validate dates: require at least some valid timestamps\n",
    "date_valid_ratio = 1.0 - raw['invoice_date'].isna().mean()\n",
    "if date_valid_ratio == 0.0:\n",
    "    raise ValueError(\"All dates failed to parse. Please fix source date formats instead of synthesizing timestamps.\")\n",
    "\n",
    "# Safe price computation: handle division by zero/non-finite values\n",
    "raw['price'] = pd.to_numeric(raw['line_amount'], errors='coerce') / pd.to_numeric(raw['quantity'], errors='coerce')\n",
    "raw.loc[~np.isfinite(raw['price']), 'price'] = np.nan\n",
    "\n",
    "print(f\"Rows loaded: {len(raw)}\")\n",
    "raw.head(3)"
   ]
  },
  {
   "cell_type": "markdown",
   "id": "b43a0ed2-9534-4c17-89c7-4efe869fe673",
   "metadata": {},
   "source": [
    "## 5. Step 1 — Basic Validity Filters\n",
    "\n",
    "1. Drop rows missing critical fields  \n",
    "2. Remove returns (prefix 'C')  \n",
    "3. Keep only positive quantities & prices  \n",
    "4. Drop exact duplicates"
   ]
  },
  {
   "cell_type": "code",
   "execution_count": 6,
   "id": "c716c636-4987-4445-81ad-46ca62240bc2",
   "metadata": {},
   "outputs": [
    {
     "name": "stdout",
     "output_type": "stream",
     "text": [
      "After Step 1: 3001 rows\n"
     ]
    }
   ],
   "source": [
    "df = raw.copy()\n",
    "before = len(df)\n",
    "# 1) Missing core\n",
    "core = df[['invoice_date','stock_code','description','country','customer_id']].notna().all(axis=1)\n",
    "df = df[core]\n",
    "quality['drop_missing_core'] = before - len(df)\n",
    "# 2) Returns\n",
    "if DROP_RETURNS_BY_INVOICE_PREFIX and 'unique_transaction' in df.columns:\n",
    "    before = len(df)\n",
    "    df = df[~df['unique_transaction'].astype(str).str.startswith('C', na=False)]\n",
    "    quality['drop_returns'] = before - len(df)\n",
    "# 3) Positive\n",
    "if KEEP_ONLY_POSITIVE_QTY:\n",
    "    before=len(df); df=df[pd.to_numeric(df['quantity'], errors='coerce')>0]; quality['drop_nonpositive_qty']=before-len(df)\n",
    "if KEEP_ONLY_POSITIVE_PRICE:\n",
    "    before=len(df); df=df[pd.to_numeric(df['price'], errors='coerce')>0]; quality['drop_nonpositive_price']=before-len(df)\n",
    "# 4) Duplicates\n",
    "if DROP_DUPLICATE_ROWS:\n",
    "    before=len(df); df=df.drop_duplicates(); quality['drop_duplicates']=before-len(df)\n",
    "print(f\"After Step 1: {len(df)} rows\")"
   ]
  },
  {
   "cell_type": "markdown",
   "id": "04ac7636-c4c3-4063-a052-9f5a5445500e",
   "metadata": {},
   "source": [
    "## 6. Step 2 — Text Normalization & Non-Product Removal\n",
    "\n",
    "- Normalize whitespace & Unicode; uppercase  \n",
    "- Drop lines matching non-product patterns"
   ]
  },
  {
   "cell_type": "code",
   "execution_count": 7,
   "id": "73f3e77a-e600-47fd-82f2-f2a5719d701e",
   "metadata": {},
   "outputs": [
    {
     "name": "stdout",
     "output_type": "stream",
     "text": [
      "After Step 2: 2965 rows\n"
     ]
    }
   ],
   "source": [
    "def normalize_text(s):\n",
    "    if not isinstance(s,str): s = '' if pd.isna(s) else str(s)\n",
    "    s = unicodedata.normalize('NFKC', s).strip()\n",
    "    s = re.sub(r'\\s+',' ', s)\n",
    "    return s.upper()\n",
    "pat = re.compile('|'.join(NON_PRODUCT_PATTERNS), flags=re.IGNORECASE)\n",
    "df['description'] = df['description'].map(normalize_text)\n",
    "df['stock_code'] = df['stock_code'].astype(str).str.upper()\n",
    "before=len(df)\n",
    "df = df[~df['description'].str.contains(pat)]\n",
    "quality['drop_non_product_patterns']=before-len(df)\n",
    "print(f\"After Step 2: {len(df)} rows\")"
   ]
  },
  {
   "cell_type": "markdown",
   "id": "28f5d942-206a-4c7b-97d1-fb6cf0a33d5e",
   "metadata": {},
   "source": [
    "## 7. Step 3 — Aggregate Duplicate Lines\n",
    "\n",
    "- Aggregate repeated lines per (customer, item, date)"
   ]
  },
  {
   "cell_type": "code",
   "execution_count": 8,
   "id": "129ec2e9-a62e-4bbc-802f-630bc8048413",
   "metadata": {},
   "outputs": [
    {
     "name": "stdout",
     "output_type": "stream",
     "text": [
      "After Step 3: 2918 rows\n"
     ]
    }
   ],
   "source": [
    "# Recompute line_amount from current price, allowing for NaN prices\n",
    "valid_price = df['price'].notna()\n",
    "df.loc[valid_price, 'line_amount'] = df.loc[valid_price, 'quantity'] * df.loc[valid_price, 'price']\n",
    "\n",
    "before=len(df)\n",
    "# Aggregate duplicates: sum quantities/amounts; defer price to weighted recomputation post-agg\n",
    "agg_cols={\n",
    "    'quantity':'sum',\n",
    "    'line_amount':'sum',\n",
    "    'description':'first','country':'first','brand':'first',\n",
    "    'category':'first','vendor':'first','invoice_date':'first'\n",
    "}\n",
    "df = df.groupby(['customer_id','stock_code','invoice_date'], as_index=False).agg(agg_cols)\n",
    "\n",
    "# Weighted price after aggregation: price = line_amount_sum / quantity_sum\n",
    "with np.errstate(divide='ignore', invalid='ignore'):\n",
    "    df['price'] = df['line_amount'] / df['quantity']\n",
    "    df.loc[~np.isfinite(df['price']), 'price'] = np.nan\n",
    "\n",
    "quality['aggregated_duplicate_lines']=before-len(df)\n",
    "print(f\"After Step 3: {len(df)} rows\")"
   ]
  },
  {
   "cell_type": "markdown",
   "id": "8c057817-4809-46ea-9c48-a50c54c0943e",
   "metadata": {},
   "source": [
    "## 8. Step 4 — Outlier Handling (IQR on log scale)\n",
    "\n",
    "- Drop or winsorize outliers in `price`, `quantity`, `line_amount`"
   ]
  },
  {
   "cell_type": "code",
   "execution_count": 9,
   "id": "874c1424-a791-4427-bf96-d297c09b9b61",
   "metadata": {},
   "outputs": [
    {
     "name": "stdout",
     "output_type": "stream",
     "text": [
      "After Step 4: 2901 rows\n"
     ]
    }
   ],
   "source": [
    "def iqr_bounds_log(s, mult=IQR_MULT, eps=LOG_EPS):\n",
    "    ls=np.log(s.clip(lower=eps)).dropna()\n",
    "    q1,q3=np.percentile(ls,[25,75]); iqr=q3-q1\n",
    "    return np.exp(q1-mult*iqr), np.exp(q3+mult*iqr)\n",
    "if HANDLE_OUTLIERS:\n",
    "    p_lo,p_hi=iqr_bounds_log(df['price']); q_lo,q_hi=iqr_bounds_log(df['quantity'])\n",
    "    a_lo,a_hi=iqr_bounds_log(df['line_amount'])\n",
    "    mask=(df['price'].between(p_lo,p_hi)&df['quantity'].between(q_lo,q_hi)\n",
    "          &df['line_amount'].between(a_lo,a_hi))\n",
    "    before=len(df)\n",
    "    if WINSORIZE_INSTEAD_OF_DROP:\n",
    "        df['price']=df['price'].clip(p_lo,p_hi)\n",
    "        df['quantity']=df['quantity'].clip(q_lo,q_hi)\n",
    "        df['line_amount']=df['quantity']*df['price']\n",
    "        removed=0\n",
    "    else:\n",
    "        df=df[mask]; removed=before-len(df)\n",
    "    quality['drop_outliers']=removed\n",
    "print(f\"After Step 4: {len(df)} rows\")"
   ]
  },
  {
   "cell_type": "markdown",
   "id": "4766b29e-3751-439f-86a4-09c805b7a3f8",
   "metadata": {},
   "source": [
    "## 9. Step 5 — Optional Coverage Filters\n",
    "\n",
    "- Drop rare items/users based on thresholds"
   ]
  },
  {
   "cell_type": "code",
   "execution_count": 10,
   "id": "341e68b9-855f-4d60-a786-c52998e6b402",
   "metadata": {},
   "outputs": [
    {
     "name": "stdout",
     "output_type": "stream",
     "text": [
      "After Step 5: 2901 rows\n"
     ]
    }
   ],
   "source": [
    "if MIN_PURCHASES_PER_ITEM>1:\n",
    "    ic=df['stock_code'].value_counts()\n",
    "    keep=ic[ic>=MIN_PURCHASES_PER_ITEM].index\n",
    "    before=len(df); df=df[df['stock_code'].isin(keep)]; quality['drop_rare_items']=before-len(df)\n",
    "if MIN_EVENTS_PER_USER>1:\n",
    "    uc=df['customer_id'].value_counts()\n",
    "    keep=uc[uc>=MIN_EVENTS_PER_USER].index\n",
    "    before=len(df); df=df[df['customer_id'].isin(keep)]; quality['drop_rare_users']=before-len(df)\n",
    "print(f\"After Step 5: {len(df)} rows\")"
   ]
  },
  {
   "cell_type": "markdown",
   "id": "02c7dce1-fcd8-459d-aefc-704754920391",
   "metadata": {},
   "source": [
    "## 10. Step 6 — Build & Save Final Tables\n",
    "\n",
    "- Create `interactions_clean`, `item_catalog`, `customer_table`  \n",
    "- Write to Parquet and export `quality_report.json`"
   ]
  },
  {
   "cell_type": "code",
   "execution_count": 11,
   "id": "722f11c6-60e1-4606-ba20-d56aff89b142",
   "metadata": {
    "scrolled": true
   },
   "outputs": [
    {
     "name": "stdout",
     "output_type": "stream",
     "text": [
      "✅ Data prep complete: ..\\data\\processed\\jarir\n"
     ]
    },
    {
     "data": {
      "text/plain": [
       "{'counts': {'rows_initial': 3001, 'rows_final': 2901},\n",
       " 'quality': {'drop_missing_core': 0,\n",
       "  'drop_returns': 0,\n",
       "  'drop_nonpositive_qty': 0,\n",
       "  'drop_nonpositive_price': 0,\n",
       "  'drop_duplicates': 0,\n",
       "  'drop_non_product_patterns': 36,\n",
       "  'aggregated_duplicate_lines': 47,\n",
       "  'drop_outliers': 17}}"
      ]
     },
     "execution_count": 11,
     "metadata": {},
     "output_type": "execute_result"
    }
   ],
   "source": [
    "interactions = ( df[['customer_id','invoice_date','stock_code','description',\n",
    "                     'quantity','price','line_amount','country','brand','category','vendor']]\n",
    "                 .sort_values(['customer_id','invoice_date']).reset_index(drop=True) )\n",
    "# Item catalog ------------------------------------------------------------\n",
    "item_catalog = (\n",
    "    interactions.groupby('stock_code', as_index=False)\n",
    "    .agg(\n",
    "        description=('description', lambda s: s.mode().iat[0] if not s.mode().empty else s.iloc[0]),\n",
    "        price_median=('price', 'median'),\n",
    "        price_mean=('price', 'mean'),\n",
    "        pop=('stock_code', 'size'),\n",
    "        brand=('brand', lambda s: s.mode().iat[0] if not s.mode().empty else s.iloc[0]),\n",
    "        category=('category', lambda s: s.mode().iat[0] if not s.mode().empty else s.iloc[0]),\n",
    "        vendor=('vendor', lambda s: s.mode().iat[0] if not s.mode().empty else s.iloc[0])\n",
    "    )\n",
    "    .sort_values('pop', ascending=False)\n",
    ")\n",
    "\n",
    "# Customer table ----------------------------------------------------------\n",
    "customer_table=(interactions.groupby('customer_id',as_index=False)\n",
    "    .agg(first_date=('invoice_date','min'), last_date=('invoice_date','max'),\n",
    "         n_events=('invoice_date','nunique'),n_lines=('stock_code','size'),\n",
    "         country_mode=('country',lambda s:s.mode().iat[0]),\n",
    "         total_spent=('line_amount','sum')))\n",
    "# Write\n",
    "write_parquet_safe= lambda df,path: df.to_parquet(path,index=False,engine='pyarrow') if True else None\n",
    "interactions.to_parquet(OUT_DIR/'interactions_clean.parquet',index=False,engine='pyarrow')\n",
    "item_catalog.to_parquet(OUT_DIR/'items_clean.parquet',index=False,engine='pyarrow')\n",
    "customer_table.to_parquet(OUT_DIR/'customers_clean.parquet',index=False,engine='pyarrow')\n",
    "\n",
    "# Quality report\n",
    "report={'counts':{'rows_initial':len(raw),'rows_final':len(interactions)},'quality':quality}\n",
    "with open(OUT_DIR/'quality_report.json','w') as f: json.dump(report,f,indent=2)\n",
    "print('✅ Data prep complete:', OUT_DIR)\n",
    "report"
   ]
  },
  {
   "cell_type": "markdown",
   "id": "0836299b-de5f-42e1-9c9c-1ab7265bc141",
   "metadata": {},
   "source": [
    "## 11. Optional Visual Checks\n",
    "\n",
    "- Histograms for `price`, `quantity`, and `line_amount`"
   ]
  },
  {
   "cell_type": "code",
   "execution_count": 12,
   "id": "9ed0065b-8a0a-4acd-9c53-d3c4ca6ca5a3",
   "metadata": {},
   "outputs": [
    {
     "data": {
      "image/png": "[encoded data removed]",
      "text/plain": [
       "<Figure size 640x480 with 1 Axes>"
      ]
     },
     "metadata": {},
     "output_type": "display_data"
    },
    {
     "data": {
      "image/png": "[encoded data removed]",
      "text/plain": [
       "<Figure size 640x480 with 1 Axes>"
      ]
     },
     "metadata": {},
     "output_type": "display_data"
    },
    {
     "data": {
      "image/png": "[encoded data removed]",
      "text/plain": [
       "<Figure size 640x480 with 1 Axes>"
      ]
     },
     "metadata": {},
     "output_type": "display_data"
    }
   ],
   "source": [
    "plt.figure(); plt.hist(interactions['price'], bins=50); plt.title('Price'); plt.show()\n",
    "plt.figure(); plt.hist(interactions['quantity'], bins=50); plt.title('Quantity'); plt.show()\n",
    "plt.figure(); plt.hist(interactions['line_amount'], bins=50); plt.title('Line Amount'); plt.show()"
   ]
  },
  {
   "cell_type": "markdown",
   "id": "f28195c7-cf31-4428-b681-1a02968f0df1",
   "metadata": {},
   "source": [
    "## 12. Step 7 — Build Train/Val/Test Sequences\n",
    "\n",
    "- Generate user history → next-item samples  \n",
    "- Split by global timestamps into 80% train, 10% val, 10% test  \n",
    "- (Optional) add random negatives  \n",
    "- Save `item_id_map`, `customer_id_map`, `sequences_train`, `sequences_val`, `sequences_test`"
   ]
  },
  {
   "cell_type": "code",
   "execution_count": 13,
   "id": "ab9eb049-b851-4262-a3cb-8e3e200dbc04",
   "metadata": {},
   "outputs": [
    {
     "name": "stdout",
     "output_type": "stream",
     "text": [
      "Saved item_id_map: (1735, 2)\n",
      "Saved customer_id_map: (929, 2)\n",
      "Saved sequences_train: (1108, 6)\n",
      "Saved sequences_val: (169, 6)\n",
      "Saved sequences_test: (160, 6)\n"
     ]
    }
   ],
   "source": [
    "import pandas as pd, numpy as np\n",
    "\n",
    "# Reload interactions if needed\n",
    "if 'interactions' not in globals():\n",
    "    interactions = pd.read_parquet(OUT_DIR/'interactions_clean.parquet')\n",
    "\n",
    "# Config\n",
    "HIST_MAX    = 15\n",
    "MIN_HISTORY = 2\n",
    "SPLIT_QS    = (0.80, 0.90)\n",
    "SAVE_NEG    = False\n",
    "N_NEG_TRAIN = 50\n",
    "N_NEG_VAL   = 100\n",
    "\n",
    "# Build ID maps\n",
    "t_items = interactions['stock_code'].unique()\n",
    "item_id_map = pd.DataFrame({'stock_code':t_items})\n",
    "item_id_map['item_idx'] = np.arange(len(item_id_map), dtype=np.int64)\n",
    "\n",
    "u_cust = interactions['customer_id'].unique()\n",
    "customer_id_map = pd.DataFrame({'customer_id':u_cust})\n",
    "customer_id_map['user_idx'] = np.arange(len(customer_id_map), dtype=np.int64)\n",
    "\n",
    "# Merge indices\n",
    "inter = (interactions\n",
    "         .merge(item_id_map, on='stock_code')\n",
    "         .merge(customer_id_map, on='customer_id')\n",
    "         .sort_values(['customer_id','invoice_date'])\n",
    "         .reset_index(drop=True))\n",
    "\n",
    "t1 = inter['invoice_date'].quantile(SPLIT_QS[0])\n",
    "t2 = inter['invoice_date'].quantile(SPLIT_QS[1])\n",
    "\n",
    "def build_sequences(df, t_start, t_end):\n",
    "    rows = []\n",
    "    for uid, g in df.groupby('customer_id', sort=False):\n",
    "        times = g['invoice_date'].to_numpy()\n",
    "        items = g['item_idx'].to_numpy()\n",
    "        users = g['user_idx'].to_numpy()\n",
    "        country = g['country'].iloc[-1]\n",
    "        for i in range(1, len(items)):\n",
    "            if not (t_start <= times[i] < t_end):\n",
    "                continue\n",
    "            hist = items[max(0, i-HIST_MAX):i]\n",
    "            if len(hist) < MIN_HISTORY:\n",
    "                continue\n",
    "            rows.append({\n",
    "                'customer_id': uid,\n",
    "                'user_idx': users[i],\n",
    "                'ts': times[i],\n",
    "                'history_idx': ' '.join(map(str,hist)),\n",
    "                'pos_item_idx': int(items[i]),\n",
    "                'country': country\n",
    "            })\n",
    "    return pd.DataFrame(rows)\n",
    "\n",
    "seq_train = build_sequences(inter, inter['invoice_date'].min(), t1)\n",
    "seq_val   = build_sequences(inter, t1, t2)\n",
    "seq_test  = build_sequences(inter, t2, inter['invoice_date'].max()+pd.Timedelta(seconds=1))\n",
    "\n",
    "# (Optional) add negatives\n",
    "def add_random_negs(df, n):\n",
    "    rng = np.random.default_rng(SEED)\n",
    "    pool = item_id_map['item_idx'].to_numpy()\n",
    "    negs = []\n",
    "    for h, p in zip(df['history_idx'], df['pos_item_idx']):\n",
    "        forbid = set(map(int,h.split())) | {p}\n",
    "        choices = pool[~np.isin(pool, list(forbid))]\n",
    "        if len(choices)==0:\n",
    "            negs.append('')\n",
    "        else:\n",
    "            take = rng.choice(choices, size=min(n,len(choices)), replace=False)\n",
    "            negs.append(' '.join(map(str,take)))\n",
    "    df['neg_idx'] = negs\n",
    "    return df\n",
    "\n",
    "if SAVE_NEG:\n",
    "    seq_train = add_random_negs(seq_train, N_NEG_TRAIN)\n",
    "    seq_val   = add_random_negs(seq_val,   N_NEG_VAL)\n",
    "    seq_test  = add_random_negs(seq_test,  N_NEG_VAL)\n",
    "\n",
    "# Save all\n",
    "def save(df,name):\n",
    "    path = OUT_DIR/f\"{name}.parquet\"\n",
    "    df.to_parquet(path, index=False, engine='pyarrow')\n",
    "    print(f\"Saved {name}: {df.shape}\")\n",
    "\n",
    "save(item_id_map, 'item_id_map')\n",
    "save(customer_id_map, 'customer_id_map')\n",
    "save(seq_train, 'sequences_train')\n",
    "save(seq_val, 'sequences_val')\n",
    "save(seq_test, 'sequences_test')"
   ]
  },
  {
   "cell_type": "code",
   "execution_count": null,
   "id": "a8769058-2d8c-44dc-b621-26a763d1e6a6",
   "metadata": {},
   "outputs": [],
   "source": []
  }
 ],
 "metadata": {
  "kernelspec": {
   "display_name": "Python 3",
   "language": "python",
   "name": "python3"
  },
  "language_info": {
   "codemirror_mode": {
    "name": "ipython",
    "version": 3
   },
   "file_extension": ".py",
   "mimetype": "text/x-python",
   "name": "python",
   "nbconvert_exporter": "python",
   "pygments_lexer": "ipython3",
   "version": "3.11.0"
  }
 },
 "nbformat": 4,
 "nbformat_minor": 5
}
