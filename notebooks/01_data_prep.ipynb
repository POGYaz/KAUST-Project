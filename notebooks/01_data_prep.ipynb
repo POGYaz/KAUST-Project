{
 "cells": [
  {
   "cell_type": "markdown",
   "id": "651b6f57",
   "metadata": {},
   "source": [
    "# Online Retail II — Robust Data Cleaning Notebook (No LLM)\n",
    "\n",
    "This notebook performs **end‑to‑end data cleaning** for the Online Retail II dataset to produce a high‑quality interactions table suitable for collaborative filtering and ranking models.\n",
    "\n",
    "**What the notebook does**\n",
    "1. Load & standardize columns (per sheet).\n",
    "2. Remove **returns/credit notes**, negative quantities/prices, and missing IDs.\n",
    "3. Normalize **text** fields (trim, whitespace collapse, Unicode normalization).\n",
    "4. Remove **non‑product lines** (shipping/fees/adjustments/tests).\n",
    "5. De‑duplicate and **aggregate duplicate invoice lines**.\n",
    "6. Detect and handle **outliers** (prices/quantities/line amount) via IQR on log scale.\n",
    "7. Optional **coverage filters**: drop ultra‑rare items and single‑event users (configurable).\n",
    "8. Build **final interactions** with derived fields and a clean **item catalog**.\n",
    "9. Save cleaned data and a **quality report** with counts removed at each step.\n"
   ]
  },
  {
   "cell_type": "code",
   "execution_count": 1,
   "id": "c9535fa3",
   "metadata": {},
   "outputs": [],
   "source": [
    "# --- Config\n",
    "from pathlib import Path\n",
    "import pandas as pd\n",
    "import numpy as np\n",
    "import unicodedata, re, json\n",
    "from datetime import datetime\n",
    "\n",
    "DATA_PATH = Path('../data/raw/online_retail_II.xlsx')   # change if running elsewhere\n",
    "OUT_DIR = Path('../data/processed/online_retail_II/')  # change if running elsewhere\n",
    "OUT_DIR.mkdir(parents=True, exist_ok=True)\n",
    "\n",
    "# Cleaning toggles / thresholds\n",
    "KEEP_ONLY_POSITIVE_QTY = True\n",
    "KEEP_ONLY_POSITIVE_PRICE = True\n",
    "DROP_RETURNS_BY_INVOICE_PREFIX = True   # invoices starting with 'C'\n",
    "DROP_DUPLICATE_ROWS = True\n",
    "\n",
    "# Non-product removal rules (description patterns; case-insensitive)\n",
    "NON_PRODUCT_PATTERNS = [\n",
    "    r'POSTAGE', r'SHIPPING', r'CARRIAGE', r'DELIVERY',\n",
    "    r'BANK CHARGES', r'AMAZON', r'DOTCOM', r'PACKING', r'ADJUST', r'DISCOUNT',\n",
    "    r'SAMPLE', r'SAMPLES', r'CHECK', r'TEST', r'MANUAL', r'FEE', r'CHARGE'\n",
    "]\n",
    "\n",
    "# Outlier handling (IQR on log values)\n",
    "HANDLE_OUTLIERS = True\n",
    "WINSORIZE_INSTEAD_OF_DROP = False   # if False, drop; if True, cap to bounds\n",
    "LOG_EPS = 1e-6\n",
    "IQR_MULT = 3.0     # 3*IQR is conservative on log scale\n",
    "\n",
    "# Coverage filters (optional; applied after core cleaning)\n",
    "MIN_EVENTS_PER_USER = 2       # set 1 to keep all users\n",
    "MIN_PURCHASES_PER_ITEM = 2    # set 1 to keep all items\n",
    "\n",
    "# Randomness\n",
    "SEED = 42\n",
    "np.random.seed(SEED)"
   ]
  },
  {
   "cell_type": "code",
   "execution_count": 2,
   "id": "5cbbeda3",
   "metadata": {},
   "outputs": [
    {
     "name": "stdout",
     "output_type": "stream",
     "text": [
      "Loaded rows: 1067371\n"
     ]
    },
    {
     "data": {
      "text/html": [
       "<div>\n",
       "<style scoped>\n",
       "    .dataframe tbody tr th:only-of-type {\n",
       "        vertical-align: middle;\n",
       "    }\n",
       "\n",
       "    .dataframe tbody tr th {\n",
       "        vertical-align: top;\n",
       "    }\n",
       "\n",
       "    .dataframe thead th {\n",
       "        text-align: right;\n",
       "    }\n",
       "</style>\n",
       "<table border=\"1\" class=\"dataframe\">\n",
       "  <thead>\n",
       "    <tr style=\"text-align: right;\">\n",
       "      <th></th>\n",
       "      <th>invoice_no</th>\n",
       "      <th>stock_code</th>\n",
       "      <th>description</th>\n",
       "      <th>quantity</th>\n",
       "      <th>invoice_date</th>\n",
       "      <th>price</th>\n",
       "      <th>customer_id</th>\n",
       "      <th>country</th>\n",
       "      <th>source_sheet</th>\n",
       "    </tr>\n",
       "  </thead>\n",
       "  <tbody>\n",
       "    <tr>\n",
       "      <th>0</th>\n",
       "      <td>489434</td>\n",
       "      <td>85048</td>\n",
       "      <td>15CM CHRISTMAS GLASS BALL 20 LIGHTS</td>\n",
       "      <td>12</td>\n",
       "      <td>2009-12-01 07:45:00</td>\n",
       "      <td>6.95</td>\n",
       "      <td>13085.0</td>\n",
       "      <td>United Kingdom</td>\n",
       "      <td>Year 2009-2010</td>\n",
       "    </tr>\n",
       "    <tr>\n",
       "      <th>1</th>\n",
       "      <td>489434</td>\n",
       "      <td>79323P</td>\n",
       "      <td>PINK CHERRY LIGHTS</td>\n",
       "      <td>12</td>\n",
       "      <td>2009-12-01 07:45:00</td>\n",
       "      <td>6.75</td>\n",
       "      <td>13085.0</td>\n",
       "      <td>United Kingdom</td>\n",
       "      <td>Year 2009-2010</td>\n",
       "    </tr>\n",
       "    <tr>\n",
       "      <th>2</th>\n",
       "      <td>489434</td>\n",
       "      <td>79323W</td>\n",
       "      <td>WHITE CHERRY LIGHTS</td>\n",
       "      <td>12</td>\n",
       "      <td>2009-12-01 07:45:00</td>\n",
       "      <td>6.75</td>\n",
       "      <td>13085.0</td>\n",
       "      <td>United Kingdom</td>\n",
       "      <td>Year 2009-2010</td>\n",
       "    </tr>\n",
       "  </tbody>\n",
       "</table>\n",
       "</div>"
      ],
      "text/plain": [
       "  invoice_no stock_code                          description  quantity  \\\n",
       "0     489434      85048  15CM CHRISTMAS GLASS BALL 20 LIGHTS        12   \n",
       "1     489434     79323P                   PINK CHERRY LIGHTS        12   \n",
       "2     489434     79323W                  WHITE CHERRY LIGHTS        12   \n",
       "\n",
       "         invoice_date  price  customer_id         country    source_sheet  \n",
       "0 2009-12-01 07:45:00   6.95      13085.0  United Kingdom  Year 2009-2010  \n",
       "1 2009-12-01 07:45:00   6.75      13085.0  United Kingdom  Year 2009-2010  \n",
       "2 2009-12-01 07:45:00   6.75      13085.0  United Kingdom  Year 2009-2010  "
      ]
     },
     "execution_count": 2,
     "metadata": {},
     "output_type": "execute_result"
    }
   ],
   "source": [
    "# --- Load Excel per sheet with selected columns\n",
    "xls = pd.ExcelFile(DATA_PATH)\n",
    "usecols = ['Invoice', 'InvoiceNo', 'Invoice Date', 'InvoiceDate', 'StockCode', 'Description', 'Quantity', 'Price', 'Customer ID', 'CustomerID', 'Country']\n",
    "frames = []\n",
    "for s in xls.sheet_names:\n",
    "    df = pd.read_excel(DATA_PATH, sheet_name=s, usecols=lambda c: c in usecols)\n",
    "    df['source_sheet'] = s\n",
    "    frames.append(df)\n",
    "raw = pd.concat(frames, ignore_index=True)\n",
    "\n",
    "# Standardize column names\n",
    "raw.columns = [c.strip().replace(' ', '_').replace('-', '_').lower() for c in raw.columns]\n",
    "rename_map = {\n",
    "    'invoice': 'invoice_no',\n",
    "    'invoice_no': 'invoice_no',\n",
    "    'invoice_date': 'invoice_date',\n",
    "    'invoicedate': 'invoice_date',\n",
    "    'stockcode': 'stock_code',\n",
    "    'customer_id': 'customer_id',\n",
    "    'description': 'description',\n",
    "    'quantity': 'quantity',\n",
    "    'price': 'price',\n",
    "    'country': 'country'\n",
    "}\n",
    "for k, v in rename_map.items():\n",
    "    if k in raw.columns:\n",
    "        raw.rename(columns={k: v}, inplace=True)\n",
    "\n",
    "# Parse types\n",
    "raw['invoice_no'] = raw['invoice_no'].astype(str)\n",
    "raw['invoice_date'] = pd.to_datetime(raw['invoice_date'], errors='coerce')\n",
    "raw['customer_id'] = pd.to_numeric(raw['customer_id'], errors='coerce')\n",
    "\n",
    "print('Loaded rows:', len(raw))\n",
    "raw.head(3)"
   ]
  },
  {
   "cell_type": "markdown",
   "id": "2500c6b3",
   "metadata": {},
   "source": [
    "## Step 1 — Basic validity filters"
   ]
  },
  {
   "cell_type": "code",
   "execution_count": 3,
   "id": "ad9fd0d8",
   "metadata": {},
   "outputs": [
    {
     "data": {
      "text/plain": [
       "(793609,\n",
       " {'drop_missing_core': 243007,\n",
       "  'drop_returns_invoice_prefix': 18744,\n",
       "  'drop_nonpositive_qty': 0,\n",
       "  'drop_nonpositive_price': 71,\n",
       "  'drop_exact_duplicates': 11940})"
      ]
     },
     "execution_count": 3,
     "metadata": {},
     "output_type": "execute_result"
    }
   ],
   "source": [
    "quality = {}\n",
    "df = raw.copy()\n",
    "\n",
    "# Missing critical fields\n",
    "before = len(df)\n",
    "df = df[df['invoice_date'].notna() & df['stock_code'].notna() & df['description'].notna() & df['country'].notna() & df['customer_id'].notna()]\n",
    "quality['drop_missing_core'] = before - len(df)\n",
    "\n",
    "# Returns by invoice prefix 'C'\n",
    "if DROP_RETURNS_BY_INVOICE_PREFIX and 'invoice_no' in df.columns:\n",
    "    before = len(df)\n",
    "    mask = df['invoice_no'].str.startswith('C', na=False)\n",
    "    df = df[~mask]\n",
    "    quality['drop_returns_invoice_prefix'] = before - len(df)\n",
    "\n",
    "# Positive quantity/price\n",
    "if KEEP_ONLY_POSITIVE_QTY:\n",
    "    before = len(df)\n",
    "    df = df[df['quantity'] > 0]\n",
    "    quality['drop_nonpositive_qty'] = before - len(df)\n",
    "\n",
    "if KEEP_ONLY_POSITIVE_PRICE:\n",
    "    before = len(df)\n",
    "    df = df[df['price'] > 0]\n",
    "    quality['drop_nonpositive_price'] = before - len(df)\n",
    "\n",
    "# Drop duplicate rows (exact duplicates)\n",
    "if DROP_DUPLICATE_ROWS:\n",
    "    before = len(df)\n",
    "    df = df.drop_duplicates()\n",
    "    quality['drop_exact_duplicates'] = before - len(df)\n",
    "\n",
    "len(df), quality"
   ]
  },
  {
   "cell_type": "markdown",
   "id": "91ddd35f",
   "metadata": {},
   "source": [
    "## Step 2 — Text normalization & non‑product removal"
   ]
  },
  {
   "cell_type": "code",
   "execution_count": 4,
   "id": "64997b50",
   "metadata": {},
   "outputs": [
    {
     "data": {
      "text/plain": [
       "(785045,\n",
       " ['15CM CHRISTMAS GLASS BALL 20 LIGHTS',\n",
       "  'PINK CHERRY LIGHTS',\n",
       "  'WHITE CHERRY LIGHTS'])"
      ]
     },
     "execution_count": 4,
     "metadata": {},
     "output_type": "execute_result"
    }
   ],
   "source": [
    "# Text normalization helpers\n",
    "def normalize_text(s: str) -> str:\n",
    "    if not isinstance(s, str):\n",
    "        s = '' if pd.isna(s) else str(s)\n",
    "    s = s.strip()\n",
    "    s = re.sub(r'\\s+', ' ', s)               # collapse whitespace\n",
    "    s = unicodedata.normalize('NFKC', s)      # unicode normalization\n",
    "    return s.upper()                           # uppercase for matching\n",
    "\n",
    "df['description'] = df['description'].astype(str).map(normalize_text)\n",
    "df['stock_code'] = df['stock_code'].astype(str).str.strip().str.upper()\n",
    "\n",
    "# Remove non-product lines by description patterns\n",
    "pattern = re.compile('|'.join(NON_PRODUCT_PATTERNS), flags=re.IGNORECASE)\n",
    "before = len(df)\n",
    "df = df[~df['description'].str.contains(pattern)]\n",
    "quality['drop_non_product_patterns'] = before - len(df)\n",
    "\n",
    "len(df), df['description'].head(5).tolist()[:3]"
   ]
  },
  {
   "cell_type": "markdown",
   "id": "489c2286",
   "metadata": {},
   "source": [
    "## Step 3 — De‑duplicate & aggregate duplicate invoice lines"
   ]
  },
  {
   "cell_type": "code",
   "execution_count": 5,
   "id": "7f7175b0",
   "metadata": {},
   "outputs": [
    {
     "data": {
      "text/plain": [
       "(760555,\n",
       "   invoice_no stock_code  quantity  price  line_amount  \\\n",
       " 0     489434      21232        24   1.25         30.0   \n",
       " 1     489434      21523        10   5.95         59.5   \n",
       " 2     489434      21871        24   1.25         30.0   \n",
       " \n",
       "                           description         country  customer_id  \\\n",
       " 0      STRAWBERRY CERAMIC TRINKET BOX  United Kingdom      13085.0   \n",
       " 1  FANCY FONT HOME SWEET HOME DOORMAT  United Kingdom      13085.0   \n",
       " 2                 SAVE THE PLANET MUG  United Kingdom      13085.0   \n",
       " \n",
       "          invoice_date  \n",
       " 0 2009-12-01 07:45:00  \n",
       " 1 2009-12-01 07:45:00  \n",
       " 2 2009-12-01 07:45:00  )"
      ]
     },
     "execution_count": 5,
     "metadata": {},
     "output_type": "execute_result"
    }
   ],
   "source": [
    "# Some invoices may repeat the same stock_code line; aggregate quantities & compute line_amount\n",
    "df['line_amount'] = df['quantity'] * df['price']\n",
    "\n",
    "# Aggregate per (invoice_no, stock_code)\n",
    "agg_cols = {\n",
    "    'quantity':'sum',\n",
    "    'price':'mean',          # average price across repeats\n",
    "    'line_amount':'sum',\n",
    "    'description':'first',   # keep first normalized description\n",
    "    'country':'first',\n",
    "    'customer_id':'first',\n",
    "    'invoice_date':'first',\n",
    "}\n",
    "before = len(df)\n",
    "df = df.groupby(['invoice_no','stock_code'], as_index=False).agg(agg_cols)\n",
    "quality['aggregated_duplicate_lines'] = before - len(df)\n",
    "\n",
    "len(df), df.head(3)"
   ]
  },
  {
   "cell_type": "markdown",
   "id": "37115134",
   "metadata": {},
   "source": [
    "## Step 4 — Outlier detection & handling (IQR on log scale)"
   ]
  },
  {
   "cell_type": "code",
   "execution_count": 6,
   "id": "d313a272",
   "metadata": {},
   "outputs": [
    {
     "data": {
      "text/plain": [
       "759786"
      ]
     },
     "execution_count": 6,
     "metadata": {},
     "output_type": "execute_result"
    }
   ],
   "source": [
    "def iqr_bounds_log(series, mult=IQR_MULT, eps=LOG_EPS):\n",
    "    s = np.log(series.clip(lower=eps))\n",
    "    q1, q3 = np.nanpercentile(s, [25, 75])\n",
    "    iqr = q3 - q1\n",
    "    lo, hi = q1 - mult*iqr, q3 + mult*iqr\n",
    "    return np.exp(lo), np.exp(hi)\n",
    "\n",
    "if HANDLE_OUTLIERS:\n",
    "    # Bounds for unit price, quantity, and line_amount\n",
    "    price_lo, price_hi = iqr_bounds_log(df['price'])\n",
    "    qty_lo, qty_hi = iqr_bounds_log(df['quantity'])\n",
    "    amt_lo, amt_hi = iqr_bounds_log(df['line_amount'])\n",
    "\n",
    "    # Apply handling\n",
    "    def handle(series, lo, hi, name):\n",
    "        before = len(series)\n",
    "        if WINSORIZE_INSTEAD_OF_DROP:\n",
    "            clipped = series.clip(lower=lo, upper=hi)\n",
    "            removed = 0\n",
    "            return clipped, removed\n",
    "        else:\n",
    "            mask = (series >= lo) & (series <= hi)\n",
    "            removed = int((~mask).sum())\n",
    "            return series[mask], removed\n",
    "\n",
    "    # Because handling may change row counts, operate via mask\n",
    "    mask_price = (df['price'] >= price_lo) & (df['price'] <= price_hi)\n",
    "    mask_qty = (df['quantity'] >= qty_lo) & (df['quantity'] <= qty_hi)\n",
    "    mask_amt = (df['line_amount'] >= amt_lo) & (df['line_amount'] <= amt_hi)\n",
    "    combined_mask = mask_price & mask_qty & mask_amt\n",
    "\n",
    "    before = len(df)\n",
    "    df = df[combined_mask].copy()\n",
    "    quality['drop_outliers'] = before - len(df)\n",
    "\n",
    "# Recompute line_amount after any clipping (if winsorized, we would recompute here)\n",
    "df['line_amount'] = df['quantity'] * df['price']\n",
    "\n",
    "len(df)"
   ]
  },
  {
   "cell_type": "markdown",
   "id": "4c7818cc",
   "metadata": {},
   "source": [
    "## Step 5 — Optional coverage filters (rare users/items)"
   ]
  },
  {
   "cell_type": "code",
   "execution_count": 7,
   "id": "b8d9aaf3",
   "metadata": {},
   "outputs": [
    {
     "data": {
      "text/plain": [
       "759567"
      ]
     },
     "execution_count": 7,
     "metadata": {},
     "output_type": "execute_result"
    }
   ],
   "source": [
    "# These are optional; useful for sequential models to ensure enough history.\n",
    "# Set thresholds to 1 above if you want to skip dropping rare entities.\n",
    "\n",
    "# Filter items with too few purchases\n",
    "if MIN_PURCHASES_PER_ITEM > 1:\n",
    "    item_counts = df.groupby('stock_code').size()\n",
    "    keep_items = set(item_counts[item_counts >= MIN_PURCHASES_PER_ITEM].index)\n",
    "    before = len(df)\n",
    "    df = df[df['stock_code'].isin(keep_items)]\n",
    "    quality['drop_rare_items'] = before - len(df)\n",
    "\n",
    "# Filter users with too few events\n",
    "if MIN_EVENTS_PER_USER > 1:\n",
    "    user_counts = df.groupby('customer_id').size()\n",
    "    keep_users = set(user_counts[user_counts >= MIN_EVENTS_PER_USER].index)\n",
    "    before = len(df)\n",
    "    df = df[df['customer_id'].isin(keep_users)]\n",
    "    quality['drop_rare_users'] = before - len(df)\n",
    "\n",
    "len(df)"
   ]
  },
  {
   "cell_type": "markdown",
   "id": "56bcbe1e",
   "metadata": {},
   "source": [
    "## Step 6 — Final tidy tables & save"
   ]
  },
  {
   "cell_type": "code",
   "execution_count": 8,
   "id": "35b4843e",
   "metadata": {},
   "outputs": [
    {
     "name": "stdout",
     "output_type": "stream",
     "text": [
      "✅ Saved cleaned tables to ../data/processed/online_retail_II\n"
     ]
    },
    {
     "data": {
      "text/plain": [
       "{'counts': {'rows_initial': 1067371, 'rows_final': 759567},\n",
       " 'quality': {'drop_missing_core': 243007,\n",
       "  'drop_returns_invoice_prefix': 18744,\n",
       "  'drop_nonpositive_qty': 0,\n",
       "  'drop_nonpositive_price': 71,\n",
       "  'drop_exact_duplicates': 11940,\n",
       "  'drop_non_product_patterns': 8564,\n",
       "  'aggregated_duplicate_lines': 24490,\n",
       "  'drop_outliers': 769,\n",
       "  'drop_rare_items': 122,\n",
       "  'drop_rare_users': 97}}"
      ]
     },
     "execution_count": 8,
     "metadata": {},
     "output_type": "execute_result"
    }
   ],
   "source": [
    "interactions = (\n",
    "    df[[\n",
    "        'invoice_no','invoice_date','customer_id',\n",
    "        'stock_code','description','quantity',\n",
    "        'price','line_amount','country'\n",
    "    ]].copy()\n",
    "    .sort_values(['customer_id','invoice_date'])\n",
    "    .reset_index(drop=True)\n",
    ")\n",
    "\n",
    "# Normalize dtypes explicitly (avoid pandas/pyarrow extension dtypes)\n",
    "interactions['invoice_no']   = interactions['invoice_no'].astype(str)\n",
    "interactions['stock_code']   = interactions['stock_code'].astype(str)\n",
    "interactions['description']  = interactions['description'].astype(str)\n",
    "interactions['country']      = interactions['country'].astype(str)\n",
    "\n",
    "interactions['invoice_date'] = pd.to_datetime(interactions['invoice_date'], errors='coerce').dt.tz_localize(None)\n",
    "interactions['customer_id']  = pd.to_numeric(interactions['customer_id'], errors='coerce').astype('Int64').astype('int64')\n",
    "interactions['quantity']     = pd.to_numeric(interactions['quantity'], errors='coerce').astype('float64')\n",
    "interactions['price']        = pd.to_numeric(interactions['price'], errors='coerce').astype('float64')\n",
    "interactions['line_amount']  = pd.to_numeric(interactions['line_amount'], errors='coerce').astype('float64')\n",
    "\n",
    "# Drop any rows that became NA in critical fields after coercion\n",
    "interactions = interactions.dropna(subset=['invoice_date','customer_id','stock_code','invoice_no'])\n",
    "\n",
    "# Defensive: convert any stray Period/Interval columns if they slipped in\n",
    "for col in interactions.columns:\n",
    "    dt = interactions[col].dtype\n",
    "    if str(dt).startswith('period'):   # PeriodDtype -> timestamp\n",
    "        interactions[col] = interactions[col].astype('datetime64[ns]')\n",
    "    if str(dt).startswith('interval'): # IntervalDtype -> string\n",
    "        interactions[col] = interactions[col].astype(str)\n",
    "\n",
    "# --- Item catalog ------------------------------------------------------------\n",
    "item_catalog = (\n",
    "    interactions.groupby('stock_code', as_index=False)\n",
    "    .agg(\n",
    "        description=('description', lambda s: s.mode().iat[0] if not s.mode().empty else s.iloc[0]),\n",
    "        price_median=('price', 'median'),\n",
    "        price_mean=('price', 'mean'),\n",
    "        pop=('stock_code', 'size')\n",
    "    )\n",
    "    .sort_values('pop', ascending=False)\n",
    ")\n",
    "\n",
    "# --- Customer table ----------------------------------------------------------\n",
    "customer_table = (\n",
    "    interactions.groupby('customer_id', as_index=False)\n",
    "    .agg(\n",
    "        first_date=('invoice_date','min'),\n",
    "        last_date =('invoice_date','max'),\n",
    "        n_events  =('invoice_no','nunique'),\n",
    "        n_lines   =('invoice_no','size'),\n",
    "        country_mode=('country', lambda s: s.mode().iat[0] if not s.mode().empty else s.iloc[0])\n",
    "    )\n",
    ")\n",
    "\n",
    "# --- Write to Parquet (no registry hacking) ---------------------------------\n",
    "from pathlib import Path\n",
    "import json\n",
    "\n",
    "OUT_DIR = Path(OUT_DIR) if 'OUT_DIR' in globals() else Path('./out')\n",
    "OUT_DIR.mkdir(parents=True, exist_ok=True)\n",
    "\n",
    "def write_parquet_safe(df, path):\n",
    "    # Try pyarrow first\n",
    "    try:\n",
    "        df.to_parquet(path, index=False, engine='pyarrow')\n",
    "        return\n",
    "    except Exception as e:\n",
    "        print(f\"[warn] pyarrow failed on {path.name}: {e}\\nFalling back to fastparquet...\")\n",
    "        # Fallback: fastparquet (no Arrow extension registry involved)\n",
    "        import fastparquet  # ensure installed: pip install fastparquet\n",
    "        df.to_parquet(path, index=False, engine='fastparquet')\n",
    "\n",
    "write_parquet_safe(interactions,  OUT_DIR / 'interactions_clean.parquet')\n",
    "write_parquet_safe(item_catalog,  OUT_DIR / 'items_clean.parquet')\n",
    "write_parquet_safe(customer_table, OUT_DIR / 'customers_clean.parquet')\n",
    "\n",
    "# --- Quality report ----------------------------------------------------------\n",
    "if 'quality' not in globals():\n",
    "    quality = {}\n",
    "rows_initial = int(len(raw)) if 'raw' in globals() else None\n",
    "\n",
    "report = {\n",
    "    'counts': {'rows_initial': rows_initial, 'rows_final': int(len(interactions))},\n",
    "    'quality': quality\n",
    "}\n",
    "with open(OUT_DIR / 'quality_report.json', 'w', encoding='utf-8') as f:\n",
    "    json.dump(report, f, indent=2, ensure_ascii=False)\n",
    "\n",
    "print('✅ Saved cleaned tables to', OUT_DIR)\n",
    "report"
   ]
  },
  {
   "cell_type": "markdown",
   "id": "54b585bd",
   "metadata": {},
   "source": [
    "## Optional: Quick visual checks"
   ]
  },
  {
   "cell_type": "code",
   "execution_count": 9,
   "id": "d06fc699",
   "metadata": {},
   "outputs": [
    {
     "data": {
      "image/png": "[encoded data removed]",
      "text/plain": [
       "<Figure size 640x480 with 1 Axes>"
      ]
     },
     "metadata": {},
     "output_type": "display_data"
    }
   ],
   "source": [
    "import matplotlib.pyplot as plt\n",
    "interactions['price'].plot(kind='hist', bins=50, title='Unit Price (clean)')\n",
    "plt.xlabel('price'); plt.ylabel('count'); plt.show()"
   ]
  },
  {
   "cell_type": "code",
   "execution_count": 10,
   "id": "348c3967",
   "metadata": {},
   "outputs": [
    {
     "data": {
      "image/png": "[encoded data removed]",
      "text/plain": [
       "<Figure size 640x480 with 1 Axes>"
      ]
     },
     "metadata": {},
     "output_type": "display_data"
    }
   ],
   "source": [
    "import matplotlib.pyplot as plt\n",
    "interactions['quantity'].plot(kind='hist', bins=50, title='Quantity (clean)')\n",
    "plt.xlabel('quantity'); plt.ylabel('count'); plt.show()"
   ]
  },
  {
   "cell_type": "code",
   "execution_count": 11,
   "id": "04d8da99",
   "metadata": {},
   "outputs": [
    {
     "data": {
      "image/png": "[encoded data removed]",
      "text/plain": [
       "<Figure size 640x480 with 1 Axes>"
      ]
     },
     "metadata": {},
     "output_type": "display_data"
    }
   ],
   "source": [
    "import matplotlib.pyplot as plt\n",
    "(interactions['line_amount']).plot(kind='hist', bins=50, title='Line Amount (clean)')\n",
    "plt.xlabel('line_amount'); plt.ylabel('count'); plt.show()"
   ]
  },
  {
   "cell_type": "code",
   "execution_count": 12,
   "id": "a6967f04",
   "metadata": {},
   "outputs": [
    {
     "name": "stdout",
     "output_type": "stream",
     "text": [
      "✅ Sequences saved: 597298 train | 75190 val | 75583 test\n",
      "Time cuts: 2009-12-01 07:45:00 → 2011-09-12 13:41:00 → 2011-11-02 10:40:00 → 2011-12-09 12:50:00\n"
     ]
    },
    {
     "data": {
      "text/html": [
       "<div>\n",
       "<style scoped>\n",
       "    .dataframe tbody tr th:only-of-type {\n",
       "        vertical-align: middle;\n",
       "    }\n",
       "\n",
       "    .dataframe tbody tr th {\n",
       "        vertical-align: top;\n",
       "    }\n",
       "\n",
       "    .dataframe thead th {\n",
       "        text-align: right;\n",
       "    }\n",
       "</style>\n",
       "<table border=\"1\" class=\"dataframe\">\n",
       "  <thead>\n",
       "    <tr style=\"text-align: right;\">\n",
       "      <th></th>\n",
       "      <th>customer_id</th>\n",
       "      <th>user_idx</th>\n",
       "      <th>ts</th>\n",
       "      <th>history_idx</th>\n",
       "      <th>pos_item_idx</th>\n",
       "      <th>country</th>\n",
       "    </tr>\n",
       "  </thead>\n",
       "  <tbody>\n",
       "    <tr>\n",
       "      <th>0</th>\n",
       "      <td>12346</td>\n",
       "      <td>0</td>\n",
       "      <td>2010-03-02 13:08:00</td>\n",
       "      <td>21 22</td>\n",
       "      <td>23</td>\n",
       "      <td>United Kingdom</td>\n",
       "    </tr>\n",
       "    <tr>\n",
       "      <th>1</th>\n",
       "      <td>12346</td>\n",
       "      <td>0</td>\n",
       "      <td>2010-03-02 13:08:00</td>\n",
       "      <td>21 22 23</td>\n",
       "      <td>200</td>\n",
       "      <td>United Kingdom</td>\n",
       "    </tr>\n",
       "    <tr>\n",
       "      <th>2</th>\n",
       "      <td>12346</td>\n",
       "      <td>0</td>\n",
       "      <td>2010-03-02 13:08:00</td>\n",
       "      <td>21 22 23 200</td>\n",
       "      <td>203</td>\n",
       "      <td>United Kingdom</td>\n",
       "    </tr>\n",
       "  </tbody>\n",
       "</table>\n",
       "</div>"
      ],
      "text/plain": [
       "   customer_id  user_idx                  ts   history_idx  pos_item_idx  \\\n",
       "0        12346         0 2010-03-02 13:08:00         21 22            23   \n",
       "1        12346         0 2010-03-02 13:08:00      21 22 23           200   \n",
       "2        12346         0 2010-03-02 13:08:00  21 22 23 200           203   \n",
       "\n",
       "          country  \n",
       "0  United Kingdom  \n",
       "1  United Kingdom  \n",
       "2  United Kingdom  "
      ]
     },
     "metadata": {},
     "output_type": "display_data"
    }
   ],
   "source": [
    "# %% [markdown]\n",
    "# ## Step 7 — Build user sequences & time-based split (→ train/val/test)\n",
    "\n",
    "# %%\n",
    "import pandas as pd, numpy as np\n",
    "from pathlib import Path\n",
    "\n",
    "# Inputs from previous steps (or reload if running standalone)\n",
    "OUT_DIR = Path(OUT_DIR) if 'OUT_DIR' in globals() else Path('./out')\n",
    "interactions_path = OUT_DIR / 'interactions_clean.parquet'\n",
    "if 'interactions' not in globals():\n",
    "    interactions = pd.read_parquet(interactions_path)\n",
    "\n",
    "# --- Config ---\n",
    "HIST_MAX      = 30     # cap on history length\n",
    "MIN_HISTORY   = 2      # require at least this many past items to form a sample\n",
    "SPLIT_QS      = (0.80, 0.90)  # 80%/10%/10% time split by global timestamps\n",
    "SAVE_NEGATIVES = False # set True to also save random negatives for quick tests\n",
    "N_NEG_TRAIN   = 50\n",
    "N_NEG_VALTEST = 100\n",
    "\n",
    "# --- Build stable ID maps (will be reused later) ---\n",
    "items = interactions['stock_code'].astype(str).unique()\n",
    "item_id_map = pd.DataFrame({'stock_code': items}).sort_values('stock_code').reset_index(drop=True)\n",
    "item_id_map['item_idx'] = np.arange(len(item_id_map), dtype=np.int64)\n",
    "\n",
    "customers = interactions['customer_id'].astype('int64').unique()\n",
    "customer_id_map = pd.DataFrame({'customer_id': customers}).sort_values('customer_id').reset_index(drop=True)\n",
    "customer_id_map['user_idx'] = np.arange(len(customer_id_map), dtype=np.int64)\n",
    "\n",
    "# Join indices into interactions (no exotic dtypes)\n",
    "interactions_idx = (\n",
    "    interactions\n",
    "    .merge(item_id_map, on='stock_code', how='left')\n",
    "    .merge(customer_id_map, on='customer_id', how='left')\n",
    "    .sort_values(['customer_id','invoice_date'])\n",
    "    .reset_index(drop=True)\n",
    ")\n",
    "\n",
    "# --- Compute global time cutoffs ---\n",
    "t1 = interactions_idx['invoice_date'].quantile(SPLIT_QS[0])\n",
    "t2 = interactions_idx['invoice_date'].quantile(SPLIT_QS[1])\n",
    "\n",
    "def build_sequences(df_user_sorted, t_start, t_end, hist_max=HIST_MAX, min_hist=MIN_HISTORY):\n",
    "    \"\"\"Create (history -> next item) samples whose TARGET time is within [t_start, t_end).\n",
    "       History can include events before t_start to avoid cold history.\"\"\"\n",
    "    rows = []\n",
    "    item_pool = item_id_map['item_idx'].to_numpy()\n",
    "    for uid, g in df_user_sorted.groupby('customer_id', sort=False):\n",
    "        items_idx = g['item_idx'].to_numpy()\n",
    "        times     = g['invoice_date'].to_numpy()\n",
    "        country   = g['country'].iloc[-1]  # last known country\n",
    "        for i in range(1, len(items_idx)):\n",
    "            ts = times[i]\n",
    "            if not (t_start <= ts < t_end):\n",
    "                continue\n",
    "            hist = items_idx[max(0, i - hist_max):i]\n",
    "            if len(hist) < min_hist:\n",
    "                continue\n",
    "            pos  = items_idx[i]\n",
    "            # store as plain strings to keep Parquet simple/robust\n",
    "            rows.append((\n",
    "                uid,\n",
    "                int(df_user_sorted['user_idx'].iloc[i]),\n",
    "                ts,\n",
    "                ' '.join(map(str, hist.tolist())),\n",
    "                int(pos),\n",
    "                str(country)\n",
    "            ))\n",
    "    if not rows:\n",
    "        return pd.DataFrame(columns=['customer_id','user_idx','ts','history_idx','pos_item_idx','country'])\n",
    "    out = pd.DataFrame(rows, columns=['customer_id','user_idx','ts','history_idx','pos_item_idx','country'])\n",
    "    return out\n",
    "\n",
    "# Split windows (inclusive start, exclusive end)\n",
    "t_min = interactions_idx['invoice_date'].min()\n",
    "t_max = interactions_idx['invoice_date'].max()\n",
    "\n",
    "seq_train = build_sequences(interactions_idx, t_min, t1)\n",
    "seq_val   = build_sequences(interactions_idx, t1,   t2)\n",
    "seq_test  = build_sequences(interactions_idx, t2,   t_max + pd.Timedelta(seconds=1))\n",
    "\n",
    "# --- (Optional) simple random negatives for quick testing ---\n",
    "rng = np.random.default_rng(42)\n",
    "def add_random_negs(df_seq, n_neg):\n",
    "    if df_seq.empty:\n",
    "        df_seq['neg_idx'] = ''\n",
    "        return df_seq\n",
    "    item_pool = item_id_map['item_idx'].to_numpy()\n",
    "    negs = []\n",
    "    for h, pos in zip(df_seq['history_idx'].values, df_seq['pos_item_idx'].values):\n",
    "        hist_set = set(map(int, h.split())) if h else set()\n",
    "        forbid   = hist_set | {int(pos)}\n",
    "        # sample without replacement until we have n_neg or exhaust\n",
    "        choices = item_pool[~np.isin(item_pool, list(forbid))]\n",
    "        if len(choices) == 0:\n",
    "            negs.append('')\n",
    "            continue\n",
    "        take = choices[rng.choice(len(choices), size=min(n_neg, len(choices)), replace=False)]\n",
    "        negs.append(' '.join(map(str, take.tolist())))\n",
    "    df_seq = df_seq.copy()\n",
    "    df_seq['neg_idx'] = negs\n",
    "    return df_seq\n",
    "\n",
    "if SAVE_NEGATIVES:\n",
    "    seq_train = add_random_negs(seq_train, N_NEG_TRAIN)\n",
    "    seq_val   = add_random_negs(seq_val,   N_NEG_VALTEST)\n",
    "    seq_test  = add_random_negs(seq_test,  N_NEG_VALTEST)\n",
    "\n",
    "# --- Save artifacts (plain types; Parquet-friendly) ---\n",
    "OUT_DIR.mkdir(parents=True, exist_ok=True)\n",
    "\n",
    "def write_parquet_safe(df, path):\n",
    "    try:\n",
    "        df.to_parquet(path, index=False, engine='pyarrow')\n",
    "    except Exception as e:\n",
    "        print(f\"[warn] pyarrow failed on {Path(path).name}: {e}\\nFalling back to fastparquet...\")\n",
    "        import fastparquet\n",
    "        df.to_parquet(path, index=False, engine='fastparquet')\n",
    "\n",
    "write_parquet_safe(item_id_map,     OUT_DIR / 'item_id_map.parquet')\n",
    "write_parquet_safe(customer_id_map, OUT_DIR / 'customer_id_map.parquet')\n",
    "write_parquet_safe(seq_train,       OUT_DIR / 'sequences_train.parquet')\n",
    "write_parquet_safe(seq_val,         OUT_DIR / 'sequences_val.parquet')\n",
    "write_parquet_safe(seq_test,        OUT_DIR / 'sequences_test.parquet')\n",
    "\n",
    "print(\"✅ Sequences saved:\",\n",
    "      len(seq_train), \"train |\",\n",
    "      len(seq_val),   \"val |\",\n",
    "      len(seq_test),  \"test\")\n",
    "print(\"Time cuts:\", t_min, \"→\", t1, \"→\", t2, \"→\", t_max)\n",
    "display(seq_train.head(3))\n"
   ]
  },
  {
   "cell_type": "code",
   "execution_count": 13,
   "id": "4f46750f",
   "metadata": {},
   "outputs": [
    {
     "name": "stdout",
     "output_type": "stream",
     "text": [
      "item_id_map.parquet -> exists=True size=54013\n",
      "customer_id_map.parquet -> exists=True size=66501\n",
      "sequences_train.parquet -> exists=True size=12529376\n",
      "sequences_val.parquet -> exists=True size=1708633\n",
      "sequences_test.parquet -> exists=True size=1753985\n",
      "(597298, 6)\n",
      "   customer_id  user_idx                  ts   history_idx  pos_item_idx  \\\n",
      "0        12346         0 2010-03-02 13:08:00         21 22            23   \n",
      "1        12346         0 2010-03-02 13:08:00      21 22 23           200   \n",
      "2        12346         0 2010-03-02 13:08:00  21 22 23 200           203   \n",
      "\n",
      "          country  \n",
      "0  United Kingdom  \n",
      "1  United Kingdom  \n",
      "2  United Kingdom  \n"
     ]
    }
   ],
   "source": [
    "from pathlib import Path\n",
    "import pandas as pd\n",
    "\n",
    "OUT_DIR = Path(OUT_DIR)  # if OUT_DIR is a string\n",
    "files = [\n",
    "    'item_id_map.parquet',\n",
    "    'customer_id_map.parquet',\n",
    "    'sequences_train.parquet',\n",
    "    'sequences_val.parquet',\n",
    "    'sequences_test.parquet',\n",
    "]\n",
    "for f in files:\n",
    "    p = OUT_DIR / f\n",
    "    print(f\"{f} -> exists={p.exists()} size={p.stat().st_size if p.exists() else 'NA'}\")\n",
    "\n",
    "# Read a small sample using fastparquet to avoid pyarrow registry issues\n",
    "df_train = pd.read_parquet(OUT_DIR/'sequences_train.parquet', engine='fastparquet')\n",
    "print(df_train.shape)\n",
    "print(df_train.head(3))\n"
   ]
  },
  {
   "cell_type": "code",
   "execution_count": null,
   "id": "a8fdc231",
   "metadata": {},
   "outputs": [],
   "source": []
  }
 ],
 "metadata": {
  "kernelspec": {
   "display_name": "Python 3 (ipykernel)",
   "language": "python",
   "name": "python3"
  },
  "language_info": {
   "codemirror_mode": {
    "name": "ipython",
    "version": 3
   },
   "file_extension": ".py",
   "mimetype": "text/x-python",
   "name": "python",
   "nbconvert_exporter": "python",
   "pygments_lexer": "ipython3",
   "version": "3.9.1"
  }
 },
 "nbformat": 4,
 "nbformat_minor": 5
}
