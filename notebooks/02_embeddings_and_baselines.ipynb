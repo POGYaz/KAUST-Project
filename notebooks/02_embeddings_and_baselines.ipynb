{
 "cells": [
  {
   "cell_type": "markdown",
   "id": "ee120523",
   "metadata": {},
   "source": [
    "\n",
    "# 02 — Embeddings (FM) and Baselines\n",
    "This notebook loads the cleaned interaction sequences and produces:\n",
    "- **Popularity** and **ItemKNN** baselines\n",
    "- (Optional) **Item text embeddings** using a small FM/LLM encoder (e.g., E5/BGE)\n",
    "- A simple **text‑embedding retrieval** baseline\n",
    "- A saved metrics report for quick comparison\n",
    "\n",
    "> Tip: keep `engine='fastparquet'` while your environment has PyArrow extension issues.\n"
   ]
  },
  {
   "cell_type": "code",
   "execution_count": 4,
   "id": "0b2b5521",
   "metadata": {},
   "outputs": [
    {
     "name": "stdout",
     "output_type": "stream",
     "text": [
      "Items: 4446 | Users: 5748\n",
      "Train/Val/Test: (597298, 6) (75190, 6) (75583, 6)\n"
     ]
    }
   ],
   "source": [
    "\n",
    "# --- Config & imports ---------------------------------------------------------\n",
    "import os, json, math, gc\n",
    "from pathlib import Path\n",
    "import numpy as np\n",
    "import pandas as pd\n",
    "\n",
    "# Matplotlib is used for simple charts (no seaborn)\n",
    "import matplotlib.pyplot as plt\n",
    "\n",
    "# Paths\n",
    "PROJECT_ROOT = Path.home() / \"KAUST-Project\"   # /home/kamalyy/KAUST-Project\n",
    "OUT_DIR = PROJECT_ROOT / \"data\" / \"processed\" / \"online_retail_II\"\n",
    "OUT_DIR.mkdir(parents=True, exist_ok=True)\n",
    "\n",
    "# Reading defaults (use fastparquet to avoid pyarrow registry issues)\n",
    "READ_KW = dict(engine='fastparquet')\n",
    "\n",
    "# Load artifacts produced in 01_data_prep\n",
    "items      = pd.read_parquet(OUT_DIR/'item_id_map.parquet', **READ_KW)\n",
    "users      = pd.read_parquet(OUT_DIR/'customer_id_map.parquet', **READ_KW)\n",
    "seq_train  = pd.read_parquet(OUT_DIR/'sequences_train.parquet', **READ_KW)\n",
    "seq_val    = pd.read_parquet(OUT_DIR/'sequences_val.parquet', **READ_KW)\n",
    "seq_test   = pd.read_parquet(OUT_DIR/'sequences_test.parquet', **READ_KW)\n",
    "\n",
    "n_items = len(items); n_users = len(users)\n",
    "print(f\"Items: {n_items} | Users: {n_users}\")\n",
    "print(\"Train/Val/Test:\", seq_train.shape, seq_val.shape, seq_test.shape)\n",
    "\n",
    "# Helper to parse history string -> list[int]\n",
    "def parse_hist(s):\n",
    "    if not isinstance(s, str) or not s.strip():\n",
    "        return []\n",
    "    return [int(x) for x in s.strip().split()]\n",
    "\n",
    "# Metrics: Recall@K and NDCG@K for a single positive label per row\n",
    "def recall_at_k(preds, truth):\n",
    "    return float(truth in preds)\n",
    "\n",
    "def ndcg_at_k(preds, truth):\n",
    "    # rank starts at 1\n",
    "    try:\n",
    "        rank = preds.index(truth) + 1\n",
    "        return 1.0 / math.log2(rank + 1.0)\n",
    "    except ValueError:\n",
    "        return 0.0\n",
    "\n",
    "def evaluate_list(df, recommender_fn, K=20, sample=None, seed=42):\n",
    "    if sample is not None and sample < len(df):\n",
    "        df = df.sample(sample, random_state=seed)\n",
    "    hits = 0.0; ndcgs = 0.0\n",
    "    for hist, pos in zip(df['history_idx'].values, df['pos_item_idx'].values):\n",
    "        h = parse_hist(hist)\n",
    "        recs = list(recommender_fn(h, K=K))\n",
    "        hits += recall_at_k(recs, int(pos))\n",
    "        ndcgs += ndcg_at_k(recs, int(pos))\n",
    "    n = len(df)\n",
    "    return {\n",
    "        f\"Recall@{K}\": hits / n if n else 0.0,\n",
    "        f\"NDCG@{K}\": ndcgs / n if n else 0.0,\n",
    "        \"n_eval\": n\n",
    "    }\n",
    "\n",
    "# A small utility to persist metrics\n",
    "def save_metrics(d, name):\n",
    "    metrics_path = OUT_DIR / 'metrics_baselines.json'\n",
    "    if metrics_path.exists():\n",
    "        with open(metrics_path, 'r', encoding='utf-8') as f:\n",
    "            cur = json.load(f)\n",
    "    else:\n",
    "        cur = {}\n",
    "    cur[name] = d\n",
    "    with open(metrics_path, 'w', encoding='utf-8') as f:\n",
    "        json.dump(cur, f, indent=2, ensure_ascii=False)\n",
    "    print(f\"Saved metrics for {name} -> {metrics_path}\")\n"
   ]
  },
  {
   "cell_type": "markdown",
   "id": "af9f4181",
   "metadata": {},
   "source": [
    "\n",
    "## Popularity baseline\n",
    "A non‑personalized baseline: recommend the most frequent items observed in **train**.\n"
   ]
  },
  {
   "cell_type": "code",
   "execution_count": 5,
   "id": "836f4b04",
   "metadata": {},
   "outputs": [
    {
     "name": "stdout",
     "output_type": "stream",
     "text": [
      "Popularity (Val):  {'Recall@20': 0.0427, 'NDCG@20': 0.017451245256672025, 'n_eval': 10000}\n",
      "Popularity (Test): {'Recall@20': 0.04, 'NDCG@20': 0.015788317211225478, 'n_eval': 10000}\n",
      "Saved metrics for popularity_val -> /home/kamalyy/KAUST-Project/data/processed/online_retail_II/metrics_baselines.json\n",
      "Saved metrics for popularity_test -> /home/kamalyy/KAUST-Project/data/processed/online_retail_II/metrics_baselines.json\n"
     ]
    }
   ],
   "source": [
    "\n",
    "# --- Popularity baseline ------------------------------------------------------\n",
    "pop_order = seq_train['pos_item_idx'].value_counts().index.to_numpy()\n",
    "\n",
    "def recommend_popularity(hist, K=20):\n",
    "    return pop_order[:K]\n",
    "\n",
    "metrics_pop_val  = evaluate_list(seq_val,  recommend_popularity, K=20, sample=10000)\n",
    "metrics_pop_test = evaluate_list(seq_test, recommend_popularity, K=20, sample=10000)\n",
    "\n",
    "print(\"Popularity (Val): \", metrics_pop_val)\n",
    "print(\"Popularity (Test):\", metrics_pop_test)\n",
    "\n",
    "save_metrics(metrics_pop_val,  'popularity_val')\n",
    "save_metrics(metrics_pop_test, 'popularity_test')\n"
   ]
  },
  {
   "cell_type": "markdown",
   "id": "77727659",
   "metadata": {},
   "source": [
    "\n",
    "## ItemKNN baseline (co‑occurrence → cosine)\n",
    "We approximate item‑item similarity using co‑occurrence across pseudo‑users (hashing users into buckets for memory efficiency).\n"
   ]
  },
  {
   "cell_type": "code",
   "execution_count": 6,
   "id": "c2f2abc6",
   "metadata": {},
   "outputs": [
    {
     "name": "stdout",
     "output_type": "stream",
     "text": [
      "ItemKNN (Val):  {'Recall@20': 0.0006, 'NDCG@20': 0.00015350915804322924, 'n_eval': 10000}\n",
      "ItemKNN (Test): {'Recall@20': 0.0004, 'NDCG@20': 0.00011494067770471036, 'n_eval': 10000}\n",
      "Saved metrics for itemknn_val -> /home/kamalyy/KAUST-Project/data/processed/online_retail_II/metrics_baselines.json\n",
      "Saved metrics for itemknn_test -> /home/kamalyy/KAUST-Project/data/processed/online_retail_II/metrics_baselines.json\n"
     ]
    },
    {
     "data": {
      "text/plain": [
       "66"
      ]
     },
     "execution_count": 6,
     "metadata": {},
     "output_type": "execute_result"
    }
   ],
   "source": [
    "\n",
    "# --- ItemKNN baseline ---------------------------------------------------------\n",
    "from collections import defaultdict\n",
    "from scipy.sparse import csr_matrix\n",
    "from sklearn.preprocessing import normalize\n",
    "\n",
    "# Build item x pseudo-user matrix\n",
    "M = 4096  # number of user buckets; increase if memory allows\n",
    "rows = []; cols = []\n",
    "for uid, hist, pos in zip(seq_train['customer_id'].values,\n",
    "                          seq_train['history_idx'].values,\n",
    "                          seq_train['pos_item_idx'].values):\n",
    "    u = int(uid) % M\n",
    "    # use set to avoid heavy duplicate counts within the same sequence\n",
    "    for it in set(parse_hist(hist) + [int(pos)]):\n",
    "        rows.append(it); cols.append(u)\n",
    "\n",
    "data = np.ones(len(rows), dtype=np.float32)\n",
    "X = csr_matrix((data, (rows, cols)), shape=(len(items), M))\n",
    "Xn = normalize(X, axis=1)\n",
    "\n",
    "# Cosine similarity via dot product of normalized rows\n",
    "S = Xn @ Xn.T  # sparse\n",
    "\n",
    "def recommend_itemknn(hist, K=20, neighbors=200):\n",
    "    if not hist:\n",
    "        return pop_order[:K]\n",
    "    cand = defaultdict(float)\n",
    "    for it in hist[-20:]:  # last 20 items from history\n",
    "        sim_row = S.getrow(it)\n",
    "        idx = sim_row.indices[:neighbors]\n",
    "        val = sim_row.data[:neighbors]\n",
    "        for j, v in zip(idx, val):\n",
    "            cand[j] += float(v)\n",
    "    # remove seen items\n",
    "    for it in set(hist):\n",
    "        cand.pop(it, None)\n",
    "    if not cand:\n",
    "        return pop_order[:K]\n",
    "    top = sorted(cand.items(), key=lambda x: x[1], reverse=True)[:K]\n",
    "    return [j for j,_ in top]\n",
    "\n",
    "metrics_knn_val  = evaluate_list(seq_val,  recommend_itemknn, K=20, sample=10000, seed=123)\n",
    "metrics_knn_test = evaluate_list(seq_test, recommend_itemknn, K=20, sample=10000, seed=124)\n",
    "\n",
    "print(\"ItemKNN (Val): \", metrics_knn_val)\n",
    "print(\"ItemKNN (Test):\", metrics_knn_test)\n",
    "\n",
    "save_metrics(metrics_knn_val,  'itemknn_val')\n",
    "save_metrics(metrics_knn_test, 'itemknn_test')\n",
    "\n",
    "# free some memory\n",
    "del X, Xn, S; gc.collect()\n"
   ]
  },
  {
   "cell_type": "markdown",
   "id": "f8d09007",
   "metadata": {},
   "source": [
    "\n",
    "## (Optional) Item text embeddings with a Foundation Model\n",
    "Use a small sentence encoder (e.g., `intfloat/e5-small-v2` or `BAAI/bge-small-en-v1.5`) to embed the **item descriptions** once.  \n",
    "These vectors are later useful for retrieval and cold‑start.\n"
   ]
  },
  {
   "cell_type": "code",
   "execution_count": 7,
   "id": "c8ee8af5",
   "metadata": {},
   "outputs": [
    {
     "name": "stdout",
     "output_type": "stream",
     "text": [
      "[warn] sentence-transformers not available or model load failed: No module named 'sentence_transformers'\n",
      "Skip this cell or run locally with internet access to download the model.\n"
     ]
    }
   ],
   "source": [
    "\n",
    "# --- Item text embeddings (optional) -----------------------------------------\n",
    "# Requires: pip install sentence-transformers\n",
    "ITEMS_CLEAN_PATH = OUT_DIR / 'items_clean.parquet'\n",
    "\n",
    "try:\n",
    "    items_clean = pd.read_parquet(ITEMS_CLEAN_PATH, **READ_KW).merge(items, on='stock_code', how='inner')\n",
    "    model_name = \"intfloat/e5-small-v2\"  # or \"BAAI/bge-small-en-v1.5\"\n",
    "    try:\n",
    "        from sentence_transformers import SentenceTransformer\n",
    "        model = SentenceTransformer(model_name)\n",
    "        desc  = items_clean['description'].fillna('').astype(str).tolist()\n",
    "        emb   = model.encode(desc, normalize_embeddings=True, batch_size=256, show_progress_bar=True)\n",
    "        np.save(OUT_DIR/'item_text_emb.npy', emb)\n",
    "        items_clean[['item_idx']].to_parquet(OUT_DIR/'item_text_index.parquet', index=False, engine='fastparquet')\n",
    "        print(\"Saved embeddings:\", emb.shape, \"->\", OUT_DIR/'item_text_emb.npy')\n",
    "    except Exception as e:\n",
    "        print(\"[warn] sentence-transformers not available or model load failed:\", e)\n",
    "        print(\"Skip this cell or run locally with internet access to download the model.\")\n",
    "except Exception as e:\n",
    "    print(\"[warn] Could not load items_clean:\", e)\n"
   ]
  },
  {
   "cell_type": "markdown",
   "id": "0c7aa828",
   "metadata": {},
   "source": [
    "\n",
    "## (Optional) Text‑embedding retrieval baseline\n",
    "If `item_text_emb.npy` exists, we build a nearest‑neighbors index and score by similarity to the **average of the user’s recent item vectors** (text only). This is a simple proxy for FM‑based retrieval.\n"
   ]
  },
  {
   "cell_type": "code",
   "execution_count": 8,
   "id": "ab9e28fc",
   "metadata": {},
   "outputs": [
    {
     "name": "stdout",
     "output_type": "stream",
     "text": [
      "TextEmb (Val):  {'Recall@20': 0.0444, 'NDCG@20': 0.017024575467686272, 'n_eval': 5000}\n",
      "TextEmb (Test): {'Recall@20': 0.0382, 'NDCG@20': 0.016024530486578904, 'n_eval': 5000}\n",
      "Saved metrics for textemb_val -> /home/kamalyy/KAUST-Project/data/processed/online_retail_II/metrics_baselines.json\n",
      "Saved metrics for textemb_test -> /home/kamalyy/KAUST-Project/data/processed/online_retail_II/metrics_baselines.json\n"
     ]
    }
   ],
   "source": [
    "\n",
    "# --- Text-embedding retrieval baseline (optional) ----------------------------\n",
    "emb_path = OUT_DIR/'item_text_emb.npy'\n",
    "idx_path = OUT_DIR/'item_text_index.parquet'\n",
    "\n",
    "def recommend_textemb(hist, K=20, recent=10):\n",
    "    # Fallback to popularity if embeddings not available\n",
    "    if not emb_path.exists() or not idx_path.exists() or not hist:\n",
    "        return pop_order[:K]\n",
    "    emb = np.load(emb_path)\n",
    "    idx = pd.read_parquet(idx_path, **READ_KW)['item_idx'].to_numpy()\n",
    "    # Build a simple ANN with sklearn (cosine)\n",
    "    from sklearn.neighbors import NearestNeighbors\n",
    "    from sklearn.preprocessing import normalize\n",
    "    emb_n = normalize(emb)\n",
    "    nn = NearestNeighbors(metric='cosine', algorithm='brute')\n",
    "    nn.fit(emb_n)\n",
    "    # history vector = mean of recent item vectors\n",
    "    h = [i for i in hist[-recent:] if i < len(emb_n)]\n",
    "    if not h:\n",
    "        return pop_order[:K]\n",
    "    q = emb_n[h].mean(axis=0, keepdims=True)\n",
    "    dist, nbrs = nn.kneighbors(q, n_neighbors=min(K*5, len(emb_n)))\n",
    "    # convert distance->similarity and filter seen\n",
    "    cand = []\n",
    "    for j, d in zip(nbrs[0].tolist(), dist[0].tolist()):\n",
    "        if j in set(hist):\n",
    "            continue\n",
    "        cand.append((j, 1.0 - float(d)))\n",
    "    cand.sort(key=lambda x: x[1], reverse=True)\n",
    "    top = [j for j,_ in cand[:K]]\n",
    "    return top if top else pop_order[:K]\n",
    "\n",
    "metrics_txt_val  = evaluate_list(seq_val,  recommend_textemb, K=20, sample=5000, seed=202)\n",
    "metrics_txt_test = evaluate_list(seq_test, recommend_textemb, K=20, sample=5000, seed=203)\n",
    "\n",
    "print(\"TextEmb (Val): \", metrics_txt_val)\n",
    "print(\"TextEmb (Test):\", metrics_txt_test)\n",
    "\n",
    "save_metrics(metrics_txt_val,  'textemb_val')\n",
    "save_metrics(metrics_txt_test, 'textemb_test')\n"
   ]
  },
  {
   "cell_type": "markdown",
   "id": "9a43226e",
   "metadata": {},
   "source": [
    "\n",
    "## Quick plots\n",
    "Simple bar charts of Recall/NDCG for the baselines. (One chart per figure; using matplotlib.)\n"
   ]
  },
  {
   "cell_type": "code",
   "execution_count": 9,
   "id": "f30588bb",
   "metadata": {},
   "outputs": [
    {
     "data": {
      "image/png": "[encoded data removed]",
      "text/plain": [
       "<Figure size 640x480 with 1 Axes>"
      ]
     },
     "metadata": {},
     "output_type": "display_data"
    },
    {
     "data": {
      "image/png": "[encoded data removed]",
      "text/plain": [
       "<Figure size 640x480 with 1 Axes>"
      ]
     },
     "metadata": {},
     "output_type": "display_data"
    }
   ],
   "source": [
    "\n",
    "# --- Plot metrics summary -----------------------------------------------------\n",
    "metrics_path = OUT_DIR / 'metrics_baselines.json'\n",
    "if metrics_path.exists():\n",
    "    with open(metrics_path, 'r', encoding='utf-8') as f:\n",
    "        metrics_all = json.load(f)\n",
    "else:\n",
    "    metrics_all = {}\n",
    "\n",
    "def collect(metric_key, keys):\n",
    "    vals = []\n",
    "    for k in keys:\n",
    "        vals.append(metrics_all.get(k, {}).get(metric_key, 0.0))\n",
    "    return vals\n",
    "\n",
    "labels = ['Popularity (val)','ItemKNN (val)','TextEmb (val)']\n",
    "keys   = ['popularity_val','itemknn_val','textemb_val']\n",
    "\n",
    "vals_recall = collect('Recall@20', keys)\n",
    "vals_ndcg   = collect('NDCG@20', keys)\n",
    "\n",
    "# Plot Recall@20\n",
    "plt.figure()\n",
    "plt.bar(labels, vals_recall)\n",
    "plt.title('Recall@20 (validation)')\n",
    "plt.xticks(rotation=20)\n",
    "plt.ylim(0, max(vals_recall+[0.01]) * 1.15)\n",
    "plt.ylabel('Recall')\n",
    "plt.tight_layout()\n",
    "plt.show()\n",
    "\n",
    "# Plot NDCG@20\n",
    "plt.figure()\n",
    "plt.bar(labels, vals_ndcg)\n",
    "plt.title('NDCG@20 (validation)')\n",
    "plt.xticks(rotation=20)\n",
    "plt.ylim(0, max(vals_ndcg+[0.01]) * 1.15)\n",
    "plt.ylabel('NDCG')\n",
    "plt.tight_layout()\n",
    "plt.show()\n"
   ]
  },
  {
   "cell_type": "markdown",
   "id": "7cc89292",
   "metadata": {},
   "source": [
    "\n",
    "### Next\n",
    "Proceed to **03_retriever_and_index.ipynb** to train a two‑tower retriever and build the FAISS/ScaNN index.  \n",
    "Keep the best baseline metrics here as a reference for expected performance.\n"
   ]
  }
 ],
 "metadata": {
  "kernelspec": {
   "display_name": "Python 3 (ipykernel)",
   "language": "python",
   "name": "python3"
  },
  "language_info": {
   "codemirror_mode": {
    "name": "ipython",
    "version": 3
   },
   "file_extension": ".py",
   "mimetype": "text/x-python",
   "name": "python",
   "nbconvert_exporter": "python",
   "pygments_lexer": "ipython3",
   "version": "3.12.11"
  }
 },
 "nbformat": 4,
 "nbformat_minor": 5
}
