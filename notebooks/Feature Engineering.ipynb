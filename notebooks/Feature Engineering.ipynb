{
 "cells": [
  {
   "metadata": {},
   "cell_type": "markdown",
   "source": "# Feature Engineering",
   "id": "e4e5bf9cb6884b51"
  },
  {
   "metadata": {
    "collapsed": true,
    "ExecuteTime": {
     "end_time": "2025-07-27T09:37:14.153228Z",
     "start_time": "2025-07-27T09:37:14.126263Z"
    }
   },
   "cell_type": "code",
   "source": [
    "import pandas as pd\n",
    "from pathlib import Path\n",
    "\n",
    "ROOT  = Path.cwd().parent\n",
    "RAW   = ROOT / \"data\" / \"raw\"\n",
    "CLEAN = ROOT / \"data\" / \"clean\"\n",
    "OUT   = ROOT / \"data\" / \"features\"\n",
    "\n",
    "tx   = pd.read_csv(RAW   / \"transactions_log.csv\",  parse_dates=[\"Date\"])\n",
    "cust = pd.read_csv(CLEAN / \"cleaned_customers_v1.csv\", parse_dates=[\"Customer_Since\"])\n",
    "prod = pd.read_csv(CLEAN / \"cleaned_products_v1.csv\")\n"
   ],
   "id": "initial_id",
   "outputs": [],
   "execution_count": 4
  },
  {
   "metadata": {
    "ExecuteTime": {
     "end_time": "2025-07-27T09:37:14.182802Z",
     "start_time": "2025-07-27T09:37:14.156887Z"
    }
   },
   "cell_type": "code",
   "source": [
    "last_date = tx['Date'].max()\n",
    "rfm = tx.groupby('CustomerID').agg(\n",
    "    recency=('Date', lambda dates: (last_date - dates.max()).days),\n",
    "    frequency=('Date', 'size')\n",
    ").reset_index()\n",
    "spend = (\n",
    "    tx.merge(prod[['SKU','Unit_Price']], on='SKU')\n",
    "      .assign(spend=lambda df: df['Unit_Price'] * df['Quantity'])\n",
    "      .groupby('CustomerID')['spend']\n",
    "      .sum()\n",
    "      .reset_index(name='monetary')\n",
    ")\n",
    "rfm = rfm.merge(spend, on='CustomerID')\n"
   ],
   "id": "f9e8073248dca792",
   "outputs": [],
   "execution_count": 5
  },
  {
   "metadata": {
    "ExecuteTime": {
     "end_time": "2025-07-27T09:37:14.193286Z",
     "start_time": "2025-07-27T09:37:14.185349Z"
    }
   },
   "cell_type": "code",
   "source": [
    "cat_counts = (\n",
    "    tx.merge(prod[[\"SKU\",\"Rev_GL_Class\"]], on=\"SKU\")\n",
    "      .groupby([\"CustomerID\",\"Rev_GL_Class\"])\n",
    "      .size()\n",
    "      .unstack(fill_value=0)\n",
    "      .add_prefix(\"class_\")\n",
    "      .reset_index()\n",
    ")\n"
   ],
   "id": "6f00896109ffce08",
   "outputs": [],
   "execution_count": 6
  },
  {
   "metadata": {
    "ExecuteTime": {
     "end_time": "2025-07-27T09:37:14.199750Z",
     "start_time": "2025-07-27T09:37:14.195445Z"
    }
   },
   "cell_type": "code",
   "source": [
    "sku_summary = (\n",
    "    tx.groupby(\"SKU\")\n",
    "      .agg(interaction_count=(\"SKU\",\"size\"),\n",
    "           avg_quantity=(\"Quantity\",\"mean\"))\n",
    "      .reset_index()\n",
    ")\n",
    "\n",
    "price_summary = (\n",
    "    prod.groupby(\"SKU\")[\"Unit_Price\"]\n",
    "        .mean()\n",
    "        .reset_index(name=\"avg_price\")\n",
    ")\n",
    "\n",
    "sku_summary = sku_summary.merge(price_summary, on=\"SKU\")\n"
   ],
   "id": "c8d57ce87583d802",
   "outputs": [],
   "execution_count": 7
  },
  {
   "metadata": {
    "ExecuteTime": {
     "end_time": "2025-07-27T09:37:14.288422Z",
     "start_time": "2025-07-27T09:37:14.202148Z"
    }
   },
   "cell_type": "code",
   "source": [
    "interactions = (\n",
    "    tx.groupby([\"CustomerID\",\"SKU\"])[\"Quantity\"]\n",
    "      .sum()\n",
    "      .reset_index(name=\"quantity\")\n",
    ")\n",
    "\n",
    "features = (\n",
    "    interactions\n",
    "      .merge(rfm,        on=\"CustomerID\")\n",
    "      .merge(cat_counts, on=\"CustomerID\")\n",
    "      .merge(sku_summary,on=\"SKU\")\n",
    ")\n",
    "\n",
    "OUT.mkdir(parents=True, exist_ok=True)\n",
    "features.to_csv(OUT / \"features_table.csv\", index=False)\n"
   ],
   "id": "4ac31d093e426e50",
   "outputs": [],
   "execution_count": 8
  },
  {
   "metadata": {
    "ExecuteTime": {
     "end_time": "2025-07-27T09:37:14.483815Z",
     "start_time": "2025-07-27T09:37:14.291464Z"
    }
   },
   "cell_type": "code",
   "source": [
    "import pandas as pd\n",
    "import numpy as np\n",
    "from pathlib import Path\n",
    "\n",
    "ROOT    = Path.cwd().parent\n",
    "RAW     = ROOT / \"data\" / \"raw\"\n",
    "CLEAN   = ROOT / \"data\" / \"clean\"\n",
    "OUT     = ROOT / \"data\" / \"features\"\n",
    "\n",
    "tx        = pd.read_csv(RAW   / \"transactions_log.csv\", parse_dates=[\"Date\"])\n",
    "cust      = pd.read_csv(CLEAN / \"cleaned_customers_v1.csv\", parse_dates=[\"Customer_Since\"])\n",
    "prod      = pd.read_csv(CLEAN / \"cleaned_products_v1.csv\")\n",
    "features  = pd.read_csv(OUT   / \"features_table.csv\")\n",
    "\n",
    "last_date    = tx[\"Date\"].max()\n",
    "alpha        = 40\n",
    "decay_rate   = 0.01\n",
    "\n",
    "features[\"c_ui\"]             = 1 + alpha * features[\"quantity\"]\n",
    "features[\"decayed_quantity\"] = features[\"quantity\"] * np.exp(-decay_rate * features[\"recency\"])\n",
    "\n",
    "features = features.merge(\n",
    "    cust[[\"CustomerID\",\"Customer_Since\"]],\n",
    "    on=\"CustomerID\"\n",
    ")\n",
    "features[\"tenure_days\"] = (last_date - features[\"Customer_Since\"]).dt.days\n",
    "\n",
    "for col in [\"monetary\",\"interaction_count\",\"avg_price\"]:\n",
    "    features[f\"log_{col}\"] = np.log1p(features[col])\n",
    "\n",
    "OUT.mkdir(parents=True, exist_ok=True)\n",
    "features.to_csv(OUT / \"features_table_v2.csv\", index=False)\n"
   ],
   "id": "6569b7e712480ea9",
   "outputs": [],
   "execution_count": 9
  }
 ],
 "metadata": {
  "kernelspec": {
   "display_name": "Python 3",
   "language": "python",
   "name": "python3"
  },
  "language_info": {
   "codemirror_mode": {
    "name": "ipython",
    "version": 2
   },
   "file_extension": ".py",
   "mimetype": "text/x-python",
   "name": "python",
   "nbconvert_exporter": "python",
   "pygments_lexer": "ipython2",
   "version": "2.7.6"
  }
 },
 "nbformat": 4,
 "nbformat_minor": 5
}
