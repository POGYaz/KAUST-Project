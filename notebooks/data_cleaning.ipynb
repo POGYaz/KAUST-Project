{
 "cells": [
  {
   "metadata": {},
   "cell_type": "markdown",
   "source": [
    "# 01 – Data Cleaning\n",
    "**Purpose:**\n",
    "1. Load raw data\n",
    "2. Profile & inspect basic stats\n",
    "3. Clean nulls, duplicates, bad timestamps, negatives\n",
    "4. Save cleaned dataset & generate schema report\n"
   ],
   "id": "8ede11e5e2312042"
  },
  {
   "metadata": {
    "collapsed": true,
    "ExecuteTime": {
     "end_time": "2025-07-25T20:34:27.764432Z",
     "start_time": "2025-07-25T20:34:27.761433Z"
    }
   },
   "cell_type": "code",
   "source": [
    "import pandas as pd\n",
    "from pathlib import Path\n",
    "\n",
    "ROOT = Path.cwd().parent\n",
    "RAW_DIR = ROOT / \"data\" / \"raw\"\n",
    "CLEAN_DIR = ROOT / \"data\" / \"clean\"\n",
    "REPORTS_DIR = ROOT / \"reports\"\n",
    "\n",
    "CLEAN_DIR.mkdir(parents=True, exist_ok=True)\n",
    "REPORTS_DIR.mkdir(parents=True, exist_ok=True)\n",
    "\n"
   ],
   "id": "initial_id",
   "outputs": [],
   "execution_count": 24
  },
  {
   "metadata": {
    "ExecuteTime": {
     "end_time": "2025-07-25T20:34:30.536672Z",
     "start_time": "2025-07-25T20:34:30.512697Z"
    }
   },
   "cell_type": "code",
   "source": [
    "transactions = pd.read_csv(RAW_DIR / \"transactions_log.csv\")\n",
    "print(transactions.columns.tolist())\n",
    "display(transactions.head())\n"
   ],
   "id": "7c1220c073b0aa52",
   "outputs": [
    {
     "name": "stdout",
     "output_type": "stream",
     "text": [
      "['TransactionID', 'CustomerID', 'Date', 'SKU', 'Quantity']\n"
     ]
    },
    {
     "data": {
      "text/plain": [
       "   TransactionID CustomerID        Date   SKU  Quantity\n",
       "0  PO-2024-10000   B2B-2734  2024-01-01  1128         2\n",
       "1  PO-2024-10000   B2B-2734  2024-01-01  1275         2\n",
       "2  PO-2024-10001   B2B-2154  2024-01-01  1078        19\n",
       "3  PO-2024-10002   B2B-2398  2024-01-01  1270         1\n",
       "4  PO-2024-10002   B2B-2398  2024-01-01  1143         3"
      ],
      "text/html": [
       "<div>\n",
       "<style scoped>\n",
       "    .dataframe tbody tr th:only-of-type {\n",
       "        vertical-align: middle;\n",
       "    }\n",
       "\n",
       "    .dataframe tbody tr th {\n",
       "        vertical-align: top;\n",
       "    }\n",
       "\n",
       "    .dataframe thead th {\n",
       "        text-align: right;\n",
       "    }\n",
       "</style>\n",
       "<table border=\"1\" class=\"dataframe\">\n",
       "  <thead>\n",
       "    <tr style=\"text-align: right;\">\n",
       "      <th></th>\n",
       "      <th>TransactionID</th>\n",
       "      <th>CustomerID</th>\n",
       "      <th>Date</th>\n",
       "      <th>SKU</th>\n",
       "      <th>Quantity</th>\n",
       "    </tr>\n",
       "  </thead>\n",
       "  <tbody>\n",
       "    <tr>\n",
       "      <th>0</th>\n",
       "      <td>PO-2024-10000</td>\n",
       "      <td>B2B-2734</td>\n",
       "      <td>2024-01-01</td>\n",
       "      <td>1128</td>\n",
       "      <td>2</td>\n",
       "    </tr>\n",
       "    <tr>\n",
       "      <th>1</th>\n",
       "      <td>PO-2024-10000</td>\n",
       "      <td>B2B-2734</td>\n",
       "      <td>2024-01-01</td>\n",
       "      <td>1275</td>\n",
       "      <td>2</td>\n",
       "    </tr>\n",
       "    <tr>\n",
       "      <th>2</th>\n",
       "      <td>PO-2024-10001</td>\n",
       "      <td>B2B-2154</td>\n",
       "      <td>2024-01-01</td>\n",
       "      <td>1078</td>\n",
       "      <td>19</td>\n",
       "    </tr>\n",
       "    <tr>\n",
       "      <th>3</th>\n",
       "      <td>PO-2024-10002</td>\n",
       "      <td>B2B-2398</td>\n",
       "      <td>2024-01-01</td>\n",
       "      <td>1270</td>\n",
       "      <td>1</td>\n",
       "    </tr>\n",
       "    <tr>\n",
       "      <th>4</th>\n",
       "      <td>PO-2024-10002</td>\n",
       "      <td>B2B-2398</td>\n",
       "      <td>2024-01-01</td>\n",
       "      <td>1143</td>\n",
       "      <td>3</td>\n",
       "    </tr>\n",
       "  </tbody>\n",
       "</table>\n",
       "</div>"
      ]
     },
     "metadata": {},
     "output_type": "display_data"
    }
   ],
   "execution_count": 25
  },
  {
   "metadata": {
    "ExecuteTime": {
     "end_time": "2025-07-25T20:34:32.755126Z",
     "start_time": "2025-07-25T20:34:32.721276Z"
    }
   },
   "cell_type": "code",
   "source": [
    "transactions = pd.read_csv(\n",
    "    RAW_DIR / \"transactions_log.csv\",\n",
    "    parse_dates=[\"Date\"]\n",
    ")\n",
    "customers = pd.read_csv(RAW_DIR / \"customers.csv\")\n",
    "products  = pd.read_csv(RAW_DIR / \"products_catalog.csv\")\n",
    "\n",
    "display(transactions.head())\n",
    "transactions.info()\n"
   ],
   "id": "8772caaecb34c45a",
   "outputs": [
    {
     "data": {
      "text/plain": [
       "   TransactionID CustomerID       Date   SKU  Quantity\n",
       "0  PO-2024-10000   B2B-2734 2024-01-01  1128         2\n",
       "1  PO-2024-10000   B2B-2734 2024-01-01  1275         2\n",
       "2  PO-2024-10001   B2B-2154 2024-01-01  1078        19\n",
       "3  PO-2024-10002   B2B-2398 2024-01-01  1270         1\n",
       "4  PO-2024-10002   B2B-2398 2024-01-01  1143         3"
      ],
      "text/html": [
       "<div>\n",
       "<style scoped>\n",
       "    .dataframe tbody tr th:only-of-type {\n",
       "        vertical-align: middle;\n",
       "    }\n",
       "\n",
       "    .dataframe tbody tr th {\n",
       "        vertical-align: top;\n",
       "    }\n",
       "\n",
       "    .dataframe thead th {\n",
       "        text-align: right;\n",
       "    }\n",
       "</style>\n",
       "<table border=\"1\" class=\"dataframe\">\n",
       "  <thead>\n",
       "    <tr style=\"text-align: right;\">\n",
       "      <th></th>\n",
       "      <th>TransactionID</th>\n",
       "      <th>CustomerID</th>\n",
       "      <th>Date</th>\n",
       "      <th>SKU</th>\n",
       "      <th>Quantity</th>\n",
       "    </tr>\n",
       "  </thead>\n",
       "  <tbody>\n",
       "    <tr>\n",
       "      <th>0</th>\n",
       "      <td>PO-2024-10000</td>\n",
       "      <td>B2B-2734</td>\n",
       "      <td>2024-01-01</td>\n",
       "      <td>1128</td>\n",
       "      <td>2</td>\n",
       "    </tr>\n",
       "    <tr>\n",
       "      <th>1</th>\n",
       "      <td>PO-2024-10000</td>\n",
       "      <td>B2B-2734</td>\n",
       "      <td>2024-01-01</td>\n",
       "      <td>1275</td>\n",
       "      <td>2</td>\n",
       "    </tr>\n",
       "    <tr>\n",
       "      <th>2</th>\n",
       "      <td>PO-2024-10001</td>\n",
       "      <td>B2B-2154</td>\n",
       "      <td>2024-01-01</td>\n",
       "      <td>1078</td>\n",
       "      <td>19</td>\n",
       "    </tr>\n",
       "    <tr>\n",
       "      <th>3</th>\n",
       "      <td>PO-2024-10002</td>\n",
       "      <td>B2B-2398</td>\n",
       "      <td>2024-01-01</td>\n",
       "      <td>1270</td>\n",
       "      <td>1</td>\n",
       "    </tr>\n",
       "    <tr>\n",
       "      <th>4</th>\n",
       "      <td>PO-2024-10002</td>\n",
       "      <td>B2B-2398</td>\n",
       "      <td>2024-01-01</td>\n",
       "      <td>1143</td>\n",
       "      <td>3</td>\n",
       "    </tr>\n",
       "  </tbody>\n",
       "</table>\n",
       "</div>"
      ]
     },
     "metadata": {},
     "output_type": "display_data"
    },
    {
     "name": "stdout",
     "output_type": "stream",
     "text": [
      "<class 'pandas.core.frame.DataFrame'>\n",
      "RangeIndex: 50000 entries, 0 to 49999\n",
      "Data columns (total 5 columns):\n",
      " #   Column         Non-Null Count  Dtype         \n",
      "---  ------         --------------  -----         \n",
      " 0   TransactionID  50000 non-null  object        \n",
      " 1   CustomerID     50000 non-null  object        \n",
      " 2   Date           50000 non-null  datetime64[ns]\n",
      " 3   SKU            50000 non-null  int64         \n",
      " 4   Quantity       50000 non-null  int64         \n",
      "dtypes: datetime64[ns](1), int64(2), object(2)\n",
      "memory usage: 1.9+ MB\n"
     ]
    }
   ],
   "execution_count": 26
  },
  {
   "metadata": {
    "ExecuteTime": {
     "end_time": "2025-07-25T20:34:35.872381Z",
     "start_time": "2025-07-25T20:34:35.851758Z"
    }
   },
   "cell_type": "code",
   "source": [
    "print(\"Rows, Cols:\", transactions.shape)\n",
    "print(transactions.describe(include=\"all\"))\n",
    "\n",
    "missing = transactions.isna().mean() * 100\n",
    "print(\"\\nMissing % per column:\")\n",
    "print(missing)\n"
   ],
   "id": "e9f597edb53ea4ce",
   "outputs": [
    {
     "name": "stdout",
     "output_type": "stream",
     "text": [
      "Rows, Cols: (50000, 5)\n",
      "        TransactionID CustomerID                        Date           SKU  \\\n",
      "count           50000      50000                       50000  50000.000000   \n",
      "unique          10954        800                         NaN           NaN   \n",
      "top     PO-2028-19291   B2B-2754                         NaN           NaN   \n",
      "freq                8        144                         NaN           NaN   \n",
      "mean              NaN        NaN  2026-10-20 07:38:15.936000   1174.371020   \n",
      "min               NaN        NaN         2024-01-01 00:00:00   1001.000000   \n",
      "25%               NaN        NaN         2025-05-15 00:00:00   1065.000000   \n",
      "50%               NaN        NaN         2026-10-19 00:00:00   1173.000000   \n",
      "75%               NaN        NaN         2028-03-22 00:00:00   1270.000000   \n",
      "max               NaN        NaN         2029-08-12 00:00:00   1370.000000   \n",
      "std               NaN        NaN                         NaN    115.750807   \n",
      "\n",
      "            Quantity  \n",
      "count   50000.000000  \n",
      "unique           NaN  \n",
      "top              NaN  \n",
      "freq             NaN  \n",
      "mean        9.500400  \n",
      "min         1.000000  \n",
      "25%         2.000000  \n",
      "50%         4.000000  \n",
      "75%        12.000000  \n",
      "max        60.000000  \n",
      "std        12.788935  \n",
      "\n",
      "Missing % per column:\n",
      "TransactionID    0.0\n",
      "CustomerID       0.0\n",
      "Date             0.0\n",
      "SKU              0.0\n",
      "Quantity         0.0\n",
      "dtype: float64\n"
     ]
    }
   ],
   "execution_count": 27
  },
  {
   "metadata": {
    "ExecuteTime": {
     "end_time": "2025-07-25T20:32:28.164840Z",
     "start_time": "2025-07-25T20:32:28.152700Z"
    }
   },
   "cell_type": "code",
   "source": [
    "before = len(transactions)\n",
    "\n",
    "transactions.drop_duplicates(inplace=True)\n",
    "\n",
    "bad_ts = transactions[\"Date\"] > pd.Timestamp.today()\n",
    "transactions = transactions[~bad_ts]\n",
    "\n",
    "neg_qty = (transactions[\"Quantity\"] < 0).sum()\n",
    "transactions = transactions[transactions[\"Quantity\"] >= 0]\n",
    "\n",
    "print(\"Total rows before:\", before)\n",
    "print(\"Duplicates removed:\", before - len(transactions) - bad_ts.sum() - neg_qty)\n",
    "print(\"Future dates removed:\", bad_ts.sum())\n",
    "print(\"Negative quantities removed:\", neg_qty)\n"
   ],
   "id": "43d57145e613931e",
   "outputs": [
    {
     "name": "stdout",
     "output_type": "stream",
     "text": [
      "Total rows before: 50000\n",
      "Duplicates removed: 0\n",
      "Future dates removed: 35767\n",
      "Negative quantities removed: 0\n"
     ]
    }
   ],
   "execution_count": 22
  },
  {
   "metadata": {
    "ExecuteTime": {
     "end_time": "2025-07-25T20:36:15.678592Z",
     "start_time": "2025-07-25T20:36:15.625263Z"
    }
   },
   "cell_type": "code",
   "source": [
    "transactions.to_csv(CLEAN_DIR / \"cleaned_transactions_v1.csv\", index=False)\n",
    "\n",
    "report = [\n",
    "    \"# Schema Validation Report\",\n",
    "    f\"- Total rows ingested: {before:,}\",\n",
    "    f\"- Rows after cleaning: {len(transactions):,}\",\n",
    "    f\"- Duplicates removed: {before - len(transactions) - bad_ts.sum() - neg_qty:,}\",\n",
    "    f\"- Future timestamps removed: {bad_ts.sum():,}\",\n",
    "    f\"- Negative quantities removed: {neg_qty:,}\"\n",
    "]\n",
    "\n",
    "\n",
    "print(\"Cleaned data saved and report generated.\")\n"
   ],
   "id": "9333fd3924233b76",
   "outputs": [
    {
     "name": "stdout",
     "output_type": "stream",
     "text": [
      "Cleaned data saved and report generated.\n"
     ]
    }
   ],
   "execution_count": 28
  },
  {
   "metadata": {
    "ExecuteTime": {
     "end_time": "2025-07-25T20:53:31.230779Z",
     "start_time": "2025-07-25T20:53:31.228158Z"
    }
   },
   "cell_type": "code",
   "source": [
    "total_before = before\n",
    "future_removed = bad_ts.sum()\n",
    "neg_removed = neg_qty\n",
    "dups_removed = total_before - len(transactions) - future_removed - neg_removed\n",
    "total_after = len(transactions)\n",
    "\n",
    "trans_report = [\n",
    "    \"# Transactions Cleaning Report\",\n",
    "    f\"- Total rows ingested: {total_before:,}\",\n",
    "    f\"- Total rows after cleaning: {total_after:,}\",\n",
    "    f\"- Duplicates removed: {dups_removed:,}\",\n",
    "    f\"- Future‐dated rows removed: {future_removed:,}\",\n",
    "    f\"- Negative‐quantity rows removed: {neg_removed:,}\"\n",
    "]\n",
    "\n",
    "from pathlib import Path\n",
    "REPORTS_DIR = Path.cwd().parent / \"reports\"\n",
    "with open(REPORTS_DIR / \"transactions_report.md\", \"w\") as f:\n",
    "    f.write(\"\\n\".join(trans_report))\n"
   ],
   "id": "6528a88c1b93b0fa",
   "outputs": [],
   "execution_count": 33
  },
  {
   "metadata": {
    "ExecuteTime": {
     "end_time": "2025-07-25T20:57:59.241553Z",
     "start_time": "2025-07-25T20:57:59.239634Z"
    }
   },
   "cell_type": "code",
   "source": [
    "dup_before = before\n",
    "dup_after  = len(transactions)\n",
    "print(\"True duplicates removed:\", dup_before - dup_after)  # should be 0\n"
   ],
   "id": "9fc8b1f955009cc0",
   "outputs": [
    {
     "name": "stdout",
     "output_type": "stream",
     "text": [
      "True duplicates removed: 0\n"
     ]
    }
   ],
   "execution_count": 34
  },
  {
   "metadata": {
    "ExecuteTime": {
     "end_time": "2025-07-25T20:46:17.517057Z",
     "start_time": "2025-07-25T20:46:17.508588Z"
    }
   },
   "cell_type": "code",
   "source": [
    "customers = pd.read_csv(RAW_DIR / \"customers.csv\")\n",
    "print(customers.columns.tolist())\n",
    "display(customers.head())\n",
    "customers.info()\n",
    "\n",
    "missing = customers.isna().mean() * 100\n",
    "print(\"\\nMissing % per column:\")\n",
    "print(missing)\n"
   ],
   "id": "e41ca26065551b13",
   "outputs": [
    {
     "name": "stdout",
     "output_type": "stream",
     "text": [
      "['CustomerID', 'Business_Category', 'Business_Size', 'Customer_Since']\n"
     ]
    },
    {
     "data": {
      "text/plain": [
       "  CustomerID Business_Category Business_Size Customer_Since\n",
       "0   B2B-2013    Legal Services        Medium     2023-01-26\n",
       "1   B2B-2310      Tech Startup        Medium     2022-03-08\n",
       "2   B2B-2782      Tech Startup         Small     2023-09-01\n",
       "3   B2B-2215        Consulting         Small     2022-10-27\n",
       "4   B2B-2436         Education         Small     2022-06-24"
      ],
      "text/html": [
       "<div>\n",
       "<style scoped>\n",
       "    .dataframe tbody tr th:only-of-type {\n",
       "        vertical-align: middle;\n",
       "    }\n",
       "\n",
       "    .dataframe tbody tr th {\n",
       "        vertical-align: top;\n",
       "    }\n",
       "\n",
       "    .dataframe thead th {\n",
       "        text-align: right;\n",
       "    }\n",
       "</style>\n",
       "<table border=\"1\" class=\"dataframe\">\n",
       "  <thead>\n",
       "    <tr style=\"text-align: right;\">\n",
       "      <th></th>\n",
       "      <th>CustomerID</th>\n",
       "      <th>Business_Category</th>\n",
       "      <th>Business_Size</th>\n",
       "      <th>Customer_Since</th>\n",
       "    </tr>\n",
       "  </thead>\n",
       "  <tbody>\n",
       "    <tr>\n",
       "      <th>0</th>\n",
       "      <td>B2B-2013</td>\n",
       "      <td>Legal Services</td>\n",
       "      <td>Medium</td>\n",
       "      <td>2023-01-26</td>\n",
       "    </tr>\n",
       "    <tr>\n",
       "      <th>1</th>\n",
       "      <td>B2B-2310</td>\n",
       "      <td>Tech Startup</td>\n",
       "      <td>Medium</td>\n",
       "      <td>2022-03-08</td>\n",
       "    </tr>\n",
       "    <tr>\n",
       "      <th>2</th>\n",
       "      <td>B2B-2782</td>\n",
       "      <td>Tech Startup</td>\n",
       "      <td>Small</td>\n",
       "      <td>2023-09-01</td>\n",
       "    </tr>\n",
       "    <tr>\n",
       "      <th>3</th>\n",
       "      <td>B2B-2215</td>\n",
       "      <td>Consulting</td>\n",
       "      <td>Small</td>\n",
       "      <td>2022-10-27</td>\n",
       "    </tr>\n",
       "    <tr>\n",
       "      <th>4</th>\n",
       "      <td>B2B-2436</td>\n",
       "      <td>Education</td>\n",
       "      <td>Small</td>\n",
       "      <td>2022-06-24</td>\n",
       "    </tr>\n",
       "  </tbody>\n",
       "</table>\n",
       "</div>"
      ]
     },
     "metadata": {},
     "output_type": "display_data"
    },
    {
     "name": "stdout",
     "output_type": "stream",
     "text": [
      "<class 'pandas.core.frame.DataFrame'>\n",
      "RangeIndex: 800 entries, 0 to 799\n",
      "Data columns (total 4 columns):\n",
      " #   Column             Non-Null Count  Dtype \n",
      "---  ------             --------------  ----- \n",
      " 0   CustomerID         800 non-null    object\n",
      " 1   Business_Category  800 non-null    object\n",
      " 2   Business_Size      800 non-null    object\n",
      " 3   Customer_Since     800 non-null    object\n",
      "dtypes: object(4)\n",
      "memory usage: 25.1+ KB\n",
      "\n",
      "Missing % per column:\n",
      "CustomerID           0.0\n",
      "Business_Category    0.0\n",
      "Business_Size        0.0\n",
      "Customer_Since       0.0\n",
      "dtype: float64\n"
     ]
    }
   ],
   "execution_count": 29
  },
  {
   "metadata": {
    "ExecuteTime": {
     "end_time": "2025-07-25T20:48:11.457904Z",
     "start_time": "2025-07-25T20:48:11.453514Z"
    }
   },
   "cell_type": "code",
   "source": [
    "customers[\"Customer_Since\"] = pd.to_datetime(customers[\"Customer_Since\"], format=\"%Y-%m-%d\")\n",
    "customers[\"Business_Category\"] = customers[\"Business_Category\"].astype(\"category\")\n",
    "customers[\"Business_Size\"]     = customers[\"Business_Size\"].astype(\"category\")\n"
   ],
   "id": "e06911192811773e",
   "outputs": [],
   "execution_count": 30
  },
  {
   "metadata": {
    "ExecuteTime": {
     "end_time": "2025-07-25T20:48:31.048253Z",
     "start_time": "2025-07-25T20:48:31.045097Z"
    }
   },
   "cell_type": "code",
   "source": [
    "print(\"Duplicate CustomerIDs:\", customers.duplicated(subset=[\"CustomerID\"]).sum())\n",
    "\n",
    "print(\"\\nBusiness_Size levels:\", customers[\"Business_Size\"].cat.categories.tolist())\n",
    "print(\"Business_Category levels:\", customers[\"Business_Category\"].cat.categories.tolist())\n"
   ],
   "id": "83dc4134ca5737c5",
   "outputs": [
    {
     "name": "stdout",
     "output_type": "stream",
     "text": [
      "Duplicate CustomerIDs: 0\n",
      "\n",
      "Business_Size levels: ['Medium', 'Small']\n",
      "Business_Category levels: ['Construction', 'Consulting', 'Education', 'Legal Services', 'Tech Startup']\n"
     ]
    }
   ],
   "execution_count": 31
  },
  {
   "metadata": {
    "ExecuteTime": {
     "end_time": "2025-07-25T20:58:12.337365Z",
     "start_time": "2025-07-25T20:58:12.331163Z"
    }
   },
   "cell_type": "code",
   "source": [
    "customers.to_csv(CLEAN_DIR / \"cleaned_customers_v1.csv\", index=False)\n",
    "\n",
    "with open(REPORTS_DIR / \"Customers_report.md\", \"a\") as f:\n",
    "    f.write(\"\\n\\n# Customers Table\\n\")\n",
    "    f.write(f\"- Parsed `Customer_Since` to datetime\\n\")\n",
    "    f.write(f\"- Business_Category levels: {customers['Business_Category'].cat.categories.tolist()}\\n\")\n",
    "    f.write(f\"- Business_Size levels: {customers['Business_Size'].cat.categories.tolist()}\\n\")\n",
    "    f.write(f\"- Duplicate CustomerID rows dropped: 0\\n\")\n"
   ],
   "id": "59df00424934c60e",
   "outputs": [],
   "execution_count": 35
  },
  {
   "metadata": {
    "ExecuteTime": {
     "end_time": "2025-07-25T21:00:27.953777Z",
     "start_time": "2025-07-25T21:00:27.943014Z"
    }
   },
   "cell_type": "code",
   "source": [
    "products = pd.read_csv(RAW_DIR / \"products_catalog.csv\")\n",
    "print(products.columns.tolist())\n",
    "display(products.head())\n",
    "products.info()\n",
    "\n",
    "missing = products.isna().mean() * 100\n",
    "print(\"\\nMissing % per column:\")\n",
    "print(missing)\n"
   ],
   "id": "b073185ded60fec",
   "outputs": [
    {
     "name": "stdout",
     "output_type": "stream",
     "text": [
      "['SKU', 'Rev_GL_Class', 'Sub_Category', 'Item_Description', 'Brand', 'Unit_Price', 'Attributes']\n"
     ]
    },
    {
     "data": {
      "text/plain": [
       "    SKU     Rev_GL_Class Sub_Category         Item_Description     Brand  \\\n",
       "0  1001  OFFICE SUPPLIES        Paper  PaperOne Paper - A4, 70  PaperOne   \n",
       "1  1002  OFFICE SUPPLIES        Paper  PaperOne Paper - A4, 80  PaperOne   \n",
       "2  1003  OFFICE SUPPLIES        Paper  PaperOne Paper - A3, 70  PaperOne   \n",
       "3  1004  OFFICE SUPPLIES        Paper  PaperOne Paper - A3, 80  PaperOne   \n",
       "4  1005  OFFICE SUPPLIES        Paper  Double A Paper - A4, 70  Double A   \n",
       "\n",
       "   Unit_Price                        Attributes  \n",
       "0       37.32  {\"Size\": \"A4\", \"Weight_gsm\": 70}  \n",
       "1       36.51  {\"Size\": \"A4\", \"Weight_gsm\": 80}  \n",
       "2       34.99  {\"Size\": \"A3\", \"Weight_gsm\": 70}  \n",
       "3       61.56  {\"Size\": \"A3\", \"Weight_gsm\": 80}  \n",
       "4       68.41  {\"Size\": \"A4\", \"Weight_gsm\": 70}  "
      ],
      "text/html": [
       "<div>\n",
       "<style scoped>\n",
       "    .dataframe tbody tr th:only-of-type {\n",
       "        vertical-align: middle;\n",
       "    }\n",
       "\n",
       "    .dataframe tbody tr th {\n",
       "        vertical-align: top;\n",
       "    }\n",
       "\n",
       "    .dataframe thead th {\n",
       "        text-align: right;\n",
       "    }\n",
       "</style>\n",
       "<table border=\"1\" class=\"dataframe\">\n",
       "  <thead>\n",
       "    <tr style=\"text-align: right;\">\n",
       "      <th></th>\n",
       "      <th>SKU</th>\n",
       "      <th>Rev_GL_Class</th>\n",
       "      <th>Sub_Category</th>\n",
       "      <th>Item_Description</th>\n",
       "      <th>Brand</th>\n",
       "      <th>Unit_Price</th>\n",
       "      <th>Attributes</th>\n",
       "    </tr>\n",
       "  </thead>\n",
       "  <tbody>\n",
       "    <tr>\n",
       "      <th>0</th>\n",
       "      <td>1001</td>\n",
       "      <td>OFFICE SUPPLIES</td>\n",
       "      <td>Paper</td>\n",
       "      <td>PaperOne Paper - A4, 70</td>\n",
       "      <td>PaperOne</td>\n",
       "      <td>37.32</td>\n",
       "      <td>{\"Size\": \"A4\", \"Weight_gsm\": 70}</td>\n",
       "    </tr>\n",
       "    <tr>\n",
       "      <th>1</th>\n",
       "      <td>1002</td>\n",
       "      <td>OFFICE SUPPLIES</td>\n",
       "      <td>Paper</td>\n",
       "      <td>PaperOne Paper - A4, 80</td>\n",
       "      <td>PaperOne</td>\n",
       "      <td>36.51</td>\n",
       "      <td>{\"Size\": \"A4\", \"Weight_gsm\": 80}</td>\n",
       "    </tr>\n",
       "    <tr>\n",
       "      <th>2</th>\n",
       "      <td>1003</td>\n",
       "      <td>OFFICE SUPPLIES</td>\n",
       "      <td>Paper</td>\n",
       "      <td>PaperOne Paper - A3, 70</td>\n",
       "      <td>PaperOne</td>\n",
       "      <td>34.99</td>\n",
       "      <td>{\"Size\": \"A3\", \"Weight_gsm\": 70}</td>\n",
       "    </tr>\n",
       "    <tr>\n",
       "      <th>3</th>\n",
       "      <td>1004</td>\n",
       "      <td>OFFICE SUPPLIES</td>\n",
       "      <td>Paper</td>\n",
       "      <td>PaperOne Paper - A3, 80</td>\n",
       "      <td>PaperOne</td>\n",
       "      <td>61.56</td>\n",
       "      <td>{\"Size\": \"A3\", \"Weight_gsm\": 80}</td>\n",
       "    </tr>\n",
       "    <tr>\n",
       "      <th>4</th>\n",
       "      <td>1005</td>\n",
       "      <td>OFFICE SUPPLIES</td>\n",
       "      <td>Paper</td>\n",
       "      <td>Double A Paper - A4, 70</td>\n",
       "      <td>Double A</td>\n",
       "      <td>68.41</td>\n",
       "      <td>{\"Size\": \"A4\", \"Weight_gsm\": 70}</td>\n",
       "    </tr>\n",
       "  </tbody>\n",
       "</table>\n",
       "</div>"
      ]
     },
     "metadata": {},
     "output_type": "display_data"
    },
    {
     "name": "stdout",
     "output_type": "stream",
     "text": [
      "<class 'pandas.core.frame.DataFrame'>\n",
      "RangeIndex: 370 entries, 0 to 369\n",
      "Data columns (total 7 columns):\n",
      " #   Column            Non-Null Count  Dtype  \n",
      "---  ------            --------------  -----  \n",
      " 0   SKU               370 non-null    int64  \n",
      " 1   Rev_GL_Class      370 non-null    object \n",
      " 2   Sub_Category      370 non-null    object \n",
      " 3   Item_Description  370 non-null    object \n",
      " 4   Brand             370 non-null    object \n",
      " 5   Unit_Price        370 non-null    float64\n",
      " 6   Attributes        370 non-null    object \n",
      "dtypes: float64(1), int64(1), object(5)\n",
      "memory usage: 20.4+ KB\n",
      "\n",
      "Missing % per column:\n",
      "SKU                 0.0\n",
      "Rev_GL_Class        0.0\n",
      "Sub_Category        0.0\n",
      "Item_Description    0.0\n",
      "Brand               0.0\n",
      "Unit_Price          0.0\n",
      "Attributes          0.0\n",
      "dtype: float64\n"
     ]
    }
   ],
   "execution_count": 36
  },
  {
   "metadata": {
    "ExecuteTime": {
     "end_time": "2025-07-25T21:01:50.109090Z",
     "start_time": "2025-07-25T21:01:50.104869Z"
    }
   },
   "cell_type": "code",
   "source": [
    "products[\"Unit_Price\"] = pd.to_numeric(products[\"Unit_Price\"], errors=\"raise\")\n",
    "products[\"Rev_GL_Class\"] = products[\"Rev_GL_Class\"].astype(\"category\")\n",
    "products[\"Sub_Category\"] = products[\"Sub_Category\"].astype(\"category\")\n",
    "products[\"Brand\"]       = products[\"Brand\"].astype(\"category\")\n"
   ],
   "id": "51e33f5d27ea1632",
   "outputs": [],
   "execution_count": 38
  },
  {
   "metadata": {
    "ExecuteTime": {
     "end_time": "2025-07-25T21:01:57.804449Z",
     "start_time": "2025-07-25T21:01:57.801885Z"
    }
   },
   "cell_type": "code",
   "source": [
    "before_p = len(products)\n",
    "products.drop_duplicates(subset=[\"SKU\"], inplace=True)\n",
    "dup_removed_p = before_p - len(products)\n"
   ],
   "id": "666f2ad4d8c71828",
   "outputs": [],
   "execution_count": 39
  },
  {
   "metadata": {
    "ExecuteTime": {
     "end_time": "2025-07-25T21:10:09.518016Z",
     "start_time": "2025-07-25T21:10:09.510711Z"
    }
   },
   "cell_type": "code",
   "source": [
    "products.to_csv(CLEAN_DIR / \"cleaned_products_v1.csv\", index=False)\n",
    "\n",
    "prod_report = [\n",
    "    \"# Products Catalog Cleaning Report\",\n",
    "    f\"- Total rows ingested: {before_p:,}\",\n",
    "    f\"- Total rows after cleaning: {len(products):,}\",\n",
    "    f\"- Duplicate SKUs removed: {dup_removed_p:,}\",\n",
    "    \"- Final dtypes for key columns:\",\n",
    "    f\"  - Size: {products['Size'].dtype}\",\n",
    "    f\"  - Weight_gsm: {products['Weight_gsm'].dtype}\",\n",
    "    f\"  - Color: {products['Color'].dtype}\",\n",
    "    f\"  - Page_Yield: {products['Page_Yield'].dtype}\",\n",
    "    \"- Missing values per column:\",\n",
    "]\n",
    "for col, pct in (products.isna().mean() * 100).items():\n",
    "    prod_report.append(f\"  - {col}: {pct:.2f}%\")\n",
    "\n",
    "with open(REPORTS_DIR / \"products_report.md\", \"w\") as f:\n",
    "    f.write(\"\\n\".join(prod_report))\n"
   ],
   "id": "4390ae36964f50d2",
   "outputs": [],
   "execution_count": 45
  },
  {
   "metadata": {
    "ExecuteTime": {
     "end_time": "2025-07-25T21:06:06.650105Z",
     "start_time": "2025-07-25T21:06:06.641172Z"
    }
   },
   "cell_type": "code",
   "source": [
    "\n",
    "products = pd.read_csv(RAW_DIR / \"products_catalog.csv\")\n",
    "\n",
    "\n",
    "print(\"Before conversions:\\n\", products.dtypes, \"\\n\")\n",
    "\n",
    "\n",
    "products[\"Unit_Price\"]       = pd.to_numeric(products[\"Unit_Price\"], errors=\"raise\")\n",
    "products[\"Rev_GL_Class\"]     = products[\"Rev_GL_Class\"].astype(\"category\")\n",
    "products[\"Sub_Category\"]     = products[\"Sub_Category\"].astype(\"category\")\n",
    "products[\"Brand\"]            = products[\"Brand\"].astype(\"category\")\n",
    "products[\"Item_Description\"] = products[\"Item_Description\"].astype(\"string\")\n",
    "\n",
    "\n",
    "print(\"After conversions:\\n\", products.dtypes)\n"
   ],
   "id": "3721333c3c9cd034",
   "outputs": [
    {
     "name": "stdout",
     "output_type": "stream",
     "text": [
      "Before conversions:\n",
      " SKU                   int64\n",
      "Rev_GL_Class         object\n",
      "Sub_Category         object\n",
      "Item_Description     object\n",
      "Brand                object\n",
      "Unit_Price          float64\n",
      "Attributes           object\n",
      "dtype: object \n",
      "\n",
      "After conversions:\n",
      " SKU                          int64\n",
      "Rev_GL_Class              category\n",
      "Sub_Category              category\n",
      "Item_Description    string[python]\n",
      "Brand                     category\n",
      "Unit_Price                 float64\n",
      "Attributes                  object\n",
      "dtype: object\n"
     ]
    }
   ],
   "execution_count": 41
  },
  {
   "metadata": {
    "ExecuteTime": {
     "end_time": "2025-07-25T21:09:33.148811Z",
     "start_time": "2025-07-25T21:09:33.144092Z"
    }
   },
   "cell_type": "code",
   "source": [
    "import pandas as pd\n",
    "\n",
    "products[\"Size\"] = products[\"Size\"].astype(\"category\")\n",
    "products[\"Color\"] = products[\"Color\"].astype(\"category\")\n",
    "products[\"Unit_Price\"] = pd.to_numeric(products[\"Unit_Price\"], errors=\"raise\")\n",
    "products[\"Page_Yield\"] = pd.to_numeric(products[\"Page_Yield\"], errors=\"raise\")\n",
    "\n",
    "products[\"Weight_gsm\"] = pd.to_numeric(products[\"Weight_gsm\"], errors=\"coerce\").astype(\"Int64\")\n",
    "print(products.dtypes[[\"Size\",\"Weight_gsm\",\"Color\",\"Page_Yield\"]])\n"
   ],
   "id": "716523e1ea53e281",
   "outputs": [
    {
     "name": "stdout",
     "output_type": "stream",
     "text": [
      "Size          category\n",
      "Weight_gsm       Int64\n",
      "Color         category\n",
      "Page_Yield     float64\n",
      "dtype: object\n"
     ]
    }
   ],
   "execution_count": 44
  },
  {
   "metadata": {
    "ExecuteTime": {
     "end_time": "2025-07-25T21:17:21.528172Z",
     "start_time": "2025-07-25T21:17:21.520456Z"
    }
   },
   "cell_type": "code",
   "source": [
    "products[\"Size\"] = products[\"Size\"].fillna(\"Unknown\").astype(\"category\")\n",
    "products[\"Color\"] = products[\"Color\"].fillna(\"Unknown\").astype(\"category\")\n",
    "products[\"Weight_gsm\"] = pd.to_numeric(products[\"Weight_gsm\"], errors=\"coerce\").fillna(0).astype(\"Int64\")\n",
    "products[\"Page_Yield\"] = pd.to_numeric(products[\"Page_Yield\"], errors=\"coerce\").fillna(0).astype(int)\n",
    "\n",
    "products.to_csv(CLEAN_DIR / \"cleaned_products_v1.csv\", index=False)\n"
   ],
   "id": "94555c0fa10d995",
   "outputs": [],
   "execution_count": 50
  },
  {
   "metadata": {
    "ExecuteTime": {
     "end_time": "2025-07-25T21:17:18.326550Z",
     "start_time": "2025-07-25T21:17:18.316412Z"
    }
   },
   "cell_type": "code",
   "source": [
    "products.dropna(axis=1, how=\"all\", inplace=True)\n",
    "products.to_csv(CLEAN_DIR / \"cleaned_products_v1.csv\", index=False)\n"
   ],
   "id": "b3cccf09a4b87b8d",
   "outputs": [],
   "execution_count": 49
  }
 ],
 "metadata": {
  "kernelspec": {
   "display_name": "Python 3",
   "language": "python",
   "name": "python3"
  },
  "language_info": {
   "codemirror_mode": {
    "name": "ipython",
    "version": 2
   },
   "file_extension": ".py",
   "mimetype": "text/x-python",
   "name": "python",
   "nbconvert_exporter": "python",
   "pygments_lexer": "ipython2",
   "version": "2.7.6"
  }
 },
 "nbformat": 4,
 "nbformat_minor": 5
}
